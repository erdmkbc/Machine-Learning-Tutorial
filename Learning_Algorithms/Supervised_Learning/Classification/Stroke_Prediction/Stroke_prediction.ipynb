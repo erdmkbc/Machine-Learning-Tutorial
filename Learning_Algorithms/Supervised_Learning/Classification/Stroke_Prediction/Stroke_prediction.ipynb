{
 "cells": [
  {
   "cell_type": "markdown",
   "metadata": {},
   "source": [
    "# Introduction"
   ]
  },
  {
   "cell_type": "markdown",
   "metadata": {},
   "source": [
    "* This content has stroke_prediction dataset,\n",
    "\n",
    "* The stroke prediction data set trying to guess to stroke status in dependent some features where features below.\n",
    "\n",
    "* Using Logistic Regression method the method that are basic of artifical neural networks and good performs if data has a binary labels.\n",
    "\n",
    "* Using seaborn library for visualazation.\n",
    "\n",
    "### Features \n",
    "\n",
    "* id\n",
    "* gender \n",
    "* age\n",
    "* hypertension\n",
    "* heart_disease \n",
    "* ever_married \n",
    "* work_type \n",
    "* Residence_type \n",
    "* avg_glucose_level\n",
    "* bmi \n",
    "* smoking_status\n",
    "* stroke(Label)\n",
    "\n",
    "### Content \n",
    "\n",
    "* Imported data\n",
    "* Load to data\n",
    "* Tried to understand data \n",
    "* Control the missing value \n",
    "* Feature engineering\n",
    "  * Correlation numerical values\n",
    "  * Smoking status by gender type and relation with stroke \n",
    "  * Smoking status by work type relation with stroke\n",
    "  * Smoking status by age mean relation with stroke\n",
    "  * Smoking status by avg_glucose_level mean relation with stroke\n",
    "  * Smoking status by bmi mean relation with stroke\n",
    "  * Genaral visualization for that we did feature engineering\n",
    "  * Density map of numerical values(hypertension; age and bmi level relation)\n",
    "* Examined to median values in numerical values \n",
    "* Control the outlier values for numerical values \n",
    "* Filling the missing value  \n",
    "* Obtained training and testing variables for learning proceses \n",
    "  * Encoding catagorical features with label encoder for learning processes\n",
    "* Implement the PCA(Principle Component Analysis) data and 2D visualization\n",
    "* Learning time!\n",
    "  * Naive Bayes Classification\n",
    "  * K neirest neighbor Classification\n",
    "  * Linear SVM Classification\n",
    "  * Decision Tree Classification\n",
    "  * Random Forest Classification\n",
    "* Comparing Learning algorithms performs\n",
    "  * Visualization part\n",
    "  * Confussion matrixes"
   ]
  },
  {
   "cell_type": "markdown",
   "metadata": {},
   "source": [
    "## Imported libraries"
   ]
  },
  {
   "cell_type": "code",
   "execution_count": 107,
   "metadata": {},
   "outputs": [],
   "source": [
    "import numpy as np \n",
    "import pandas as pd \n",
    "import matplotlib.pyplot as plt \n",
    "import seaborn as sns\n",
    "sns.set_style('darkgrid')\n",
    "import warnings \n",
    "warnings.filterwarnings('ignore')\n",
    "from collections import Counter"
   ]
  },
  {
   "cell_type": "markdown",
   "metadata": {},
   "source": [
    "* We want use style dark grid \n",
    "* Ignoring warnings \n",
    "* We will use Counter function for outlier step for counting in list values"
   ]
  },
  {
   "cell_type": "markdown",
   "metadata": {},
   "source": [
    "## Load the data "
   ]
  },
  {
   "cell_type": "code",
   "execution_count": 108,
   "metadata": {},
   "outputs": [],
   "source": [
    "data = pd.read_csv('healthcare-dataset-stroke-data.csv')"
   ]
  },
  {
   "cell_type": "code",
   "execution_count": 109,
   "metadata": {},
   "outputs": [
    {
     "name": "stdout",
     "output_type": "stream",
     "text": [
      "<class 'pandas.core.frame.DataFrame'>\n",
      "RangeIndex: 5110 entries, 0 to 5109\n",
      "Data columns (total 12 columns):\n",
      " #   Column             Non-Null Count  Dtype  \n",
      "---  ------             --------------  -----  \n",
      " 0   id                 5110 non-null   int64  \n",
      " 1   gender             5110 non-null   object \n",
      " 2   age                5110 non-null   float64\n",
      " 3   hypertension       5110 non-null   int64  \n",
      " 4   heart_disease      5110 non-null   int64  \n",
      " 5   ever_married       5110 non-null   object \n",
      " 6   work_type          5110 non-null   object \n",
      " 7   Residence_type     5110 non-null   object \n",
      " 8   avg_glucose_level  5110 non-null   float64\n",
      " 9   bmi                4909 non-null   float64\n",
      " 10  smoking_status     5110 non-null   object \n",
      " 11  stroke             5110 non-null   int64  \n",
      "dtypes: float64(3), int64(4), object(5)\n",
      "memory usage: 479.2+ KB\n"
     ]
    }
   ],
   "source": [
    "data.info()"
   ]
  },
  {
   "cell_type": "markdown",
   "metadata": {},
   "source": [
    "## Tried to understand data "
   ]
  },
  {
   "cell_type": "code",
   "execution_count": 110,
   "metadata": {},
   "outputs": [
    {
     "data": {
      "text/html": [
       "<div>\n",
       "<style scoped>\n",
       "    .dataframe tbody tr th:only-of-type {\n",
       "        vertical-align: middle;\n",
       "    }\n",
       "\n",
       "    .dataframe tbody tr th {\n",
       "        vertical-align: top;\n",
       "    }\n",
       "\n",
       "    .dataframe thead th {\n",
       "        text-align: right;\n",
       "    }\n",
       "</style>\n",
       "<table border=\"1\" class=\"dataframe\">\n",
       "  <thead>\n",
       "    <tr style=\"text-align: right;\">\n",
       "      <th></th>\n",
       "      <th>id</th>\n",
       "      <th>gender</th>\n",
       "      <th>age</th>\n",
       "      <th>hypertension</th>\n",
       "      <th>heart_disease</th>\n",
       "      <th>ever_married</th>\n",
       "      <th>work_type</th>\n",
       "      <th>Residence_type</th>\n",
       "      <th>avg_glucose_level</th>\n",
       "      <th>bmi</th>\n",
       "      <th>smoking_status</th>\n",
       "      <th>stroke</th>\n",
       "    </tr>\n",
       "  </thead>\n",
       "  <tbody>\n",
       "    <tr>\n",
       "      <th>0</th>\n",
       "      <td>9046</td>\n",
       "      <td>Male</td>\n",
       "      <td>67.0</td>\n",
       "      <td>0</td>\n",
       "      <td>1</td>\n",
       "      <td>Yes</td>\n",
       "      <td>Private</td>\n",
       "      <td>Urban</td>\n",
       "      <td>228.69</td>\n",
       "      <td>36.6</td>\n",
       "      <td>formerly smoked</td>\n",
       "      <td>1</td>\n",
       "    </tr>\n",
       "    <tr>\n",
       "      <th>1</th>\n",
       "      <td>51676</td>\n",
       "      <td>Female</td>\n",
       "      <td>61.0</td>\n",
       "      <td>0</td>\n",
       "      <td>0</td>\n",
       "      <td>Yes</td>\n",
       "      <td>Self-employed</td>\n",
       "      <td>Rural</td>\n",
       "      <td>202.21</td>\n",
       "      <td>NaN</td>\n",
       "      <td>never smoked</td>\n",
       "      <td>1</td>\n",
       "    </tr>\n",
       "    <tr>\n",
       "      <th>2</th>\n",
       "      <td>31112</td>\n",
       "      <td>Male</td>\n",
       "      <td>80.0</td>\n",
       "      <td>0</td>\n",
       "      <td>1</td>\n",
       "      <td>Yes</td>\n",
       "      <td>Private</td>\n",
       "      <td>Rural</td>\n",
       "      <td>105.92</td>\n",
       "      <td>32.5</td>\n",
       "      <td>never smoked</td>\n",
       "      <td>1</td>\n",
       "    </tr>\n",
       "    <tr>\n",
       "      <th>3</th>\n",
       "      <td>60182</td>\n",
       "      <td>Female</td>\n",
       "      <td>49.0</td>\n",
       "      <td>0</td>\n",
       "      <td>0</td>\n",
       "      <td>Yes</td>\n",
       "      <td>Private</td>\n",
       "      <td>Urban</td>\n",
       "      <td>171.23</td>\n",
       "      <td>34.4</td>\n",
       "      <td>smokes</td>\n",
       "      <td>1</td>\n",
       "    </tr>\n",
       "    <tr>\n",
       "      <th>4</th>\n",
       "      <td>1665</td>\n",
       "      <td>Female</td>\n",
       "      <td>79.0</td>\n",
       "      <td>1</td>\n",
       "      <td>0</td>\n",
       "      <td>Yes</td>\n",
       "      <td>Self-employed</td>\n",
       "      <td>Rural</td>\n",
       "      <td>174.12</td>\n",
       "      <td>24.0</td>\n",
       "      <td>never smoked</td>\n",
       "      <td>1</td>\n",
       "    </tr>\n",
       "  </tbody>\n",
       "</table>\n",
       "</div>"
      ],
      "text/plain": [
       "      id  gender   age  hypertension  heart_disease ever_married  \\\n",
       "0   9046    Male  67.0             0              1          Yes   \n",
       "1  51676  Female  61.0             0              0          Yes   \n",
       "2  31112    Male  80.0             0              1          Yes   \n",
       "3  60182  Female  49.0             0              0          Yes   \n",
       "4   1665  Female  79.0             1              0          Yes   \n",
       "\n",
       "       work_type Residence_type  avg_glucose_level   bmi   smoking_status  \\\n",
       "0        Private          Urban             228.69  36.6  formerly smoked   \n",
       "1  Self-employed          Rural             202.21   NaN     never smoked   \n",
       "2        Private          Rural             105.92  32.5     never smoked   \n",
       "3        Private          Urban             171.23  34.4           smokes   \n",
       "4  Self-employed          Rural             174.12  24.0     never smoked   \n",
       "\n",
       "   stroke  \n",
       "0       1  \n",
       "1       1  \n",
       "2       1  \n",
       "3       1  \n",
       "4       1  "
      ]
     },
     "execution_count": 110,
     "metadata": {},
     "output_type": "execute_result"
    }
   ],
   "source": [
    "data.head()"
   ]
  },
  {
   "cell_type": "markdown",
   "metadata": {},
   "source": [
    "## Control the missing value"
   ]
  },
  {
   "cell_type": "code",
   "execution_count": 111,
   "metadata": {},
   "outputs": [
    {
     "data": {
      "text/plain": [
       "id                     0\n",
       "gender                 0\n",
       "age                    0\n",
       "hypertension           0\n",
       "heart_disease          0\n",
       "ever_married           0\n",
       "work_type              0\n",
       "Residence_type         0\n",
       "avg_glucose_level      0\n",
       "bmi                  201\n",
       "smoking_status         0\n",
       "stroke                 0\n",
       "dtype: int64"
      ]
     },
     "execution_count": 111,
     "metadata": {},
     "output_type": "execute_result"
    }
   ],
   "source": [
    "data.isnull().sum()"
   ]
  },
  {
   "cell_type": "markdown",
   "metadata": {},
   "source": [
    "* We can see 201 value null elements in 'bmi' feature we should fill the values with availaible median value"
   ]
  },
  {
   "cell_type": "markdown",
   "metadata": {},
   "source": [
    "## Feature engineering"
   ]
  },
  {
   "cell_type": "markdown",
   "metadata": {},
   "source": [
    "### Correlation numerical values"
   ]
  },
  {
   "cell_type": "code",
   "execution_count": 112,
   "metadata": {},
   "outputs": [
    {
     "data": {
      "image/png": "[encoded data removed]",
      "text/plain": [
       "<Figure size 432x288 with 2 Axes>"
      ]
     },
     "metadata": {},
     "output_type": "display_data"
    }
   ],
   "source": [
    "sns.heatmap(data.corr() , annot = True)\n",
    "plt.title('Correlation numerical values')\n",
    "plt.show()"
   ]
  },
  {
   "cell_type": "markdown",
   "metadata": {},
   "source": [
    "Comment : The features mainly that has no correlation enough for processes"
   ]
  },
  {
   "cell_type": "markdown",
   "metadata": {},
   "source": [
    "### Smoking status by gender type and relation with stroke "
   ]
  },
  {
   "cell_type": "code",
   "execution_count": 113,
   "metadata": {},
   "outputs": [
    {
     "data": {
      "image/png": "[encoded data removed]",
      "text/plain": [
       "<Figure size 864x432 with 8 Axes>"
      ]
     },
     "metadata": {},
     "output_type": "display_data"
    }
   ],
   "source": [
    "g = sns.FacetGrid(data , row = 'stroke' , col = 'smoking_status')\n",
    "g.map(sns.countplot , 'gender' , color = 'red')\n",
    "plt.show()"
   ]
  },
  {
   "cell_type": "markdown",
   "metadata": {},
   "source": [
    "### Smoking status by work type relation with stroke status"
   ]
  },
  {
   "cell_type": "code",
   "execution_count": 114,
   "metadata": {},
   "outputs": [
    {
     "data": {
      "image/png": "[encoded data removed]",
      "text/plain": [
       "<Figure size 1152x576 with 8 Axes>"
      ]
     },
     "metadata": {},
     "output_type": "display_data"
    }
   ],
   "source": [
    "g = sns.FacetGrid(data , row = 'stroke' , col = 'smoking_status' , size = 4)\n",
    "g.map(sns.countplot , 'work_type')\n",
    "plt.show()"
   ]
  },
  {
   "cell_type": "markdown",
   "metadata": {},
   "source": [
    "### Smoking status by age mean relation with stroke "
   ]
  },
  {
   "cell_type": "code",
   "execution_count": 115,
   "metadata": {},
   "outputs": [],
   "source": [
    "smoking_status = data['smoking_status'].unique()\n",
    "stroke_status = data['stroke'].unique()"
   ]
  },
  {
   "cell_type": "code",
   "execution_count": 116,
   "metadata": {},
   "outputs": [
    {
     "name": "stdout",
     "output_type": "stream",
     "text": [
      "Stroke status 1 : [68.62857142857143, 70.31111111111112, 62.80952380952381, 65.83659574468085]\n",
      "Stroke status 0 : [53.75337423312883, 45.567702552719204, 46.21285140562249, 29.11201068804278]\n",
      "means concat :  [68.62857143 70.31111111 62.80952381 65.83659574 53.75337423 45.56770255\n",
      " 46.21285141 29.11201069]\n",
      "smoking status concat :  ['formerly smoked' 'never smoked' 'smokes' 'Unknown' 'formerly smoked'\n",
      " 'never smoked' 'smokes' 'Unknown']\n"
     ]
    }
   ],
   "source": [
    "# for saving mean values by smoking status\n",
    "age_mean_smoking_status_stroke_1 = []\n",
    "age_mean_smoking_status_stroke_0 = []\n",
    "\n",
    "for j in smoking_status:\n",
    "    age_mean_smoking_status_stroke_1.append(data.age[(data['smoking_status'] == '{}'.format(j)) & (data['stroke'] == 1)].mean())\n",
    "    age_mean_smoking_status_stroke_0.append(data.age[(data['smoking_status'] == '{}'.format(j)) & (data['stroke'] == 0)].mean())   \n",
    "\n",
    "print('Stroke status 1 :' , age_mean_smoking_status_stroke_1)\n",
    "print('Stroke status 0 :' , age_mean_smoking_status_stroke_0)\n",
    "\n",
    "# concat the array for dataframe that we will create need to label \n",
    "means_age = np.concatenate((age_mean_smoking_status_stroke_1 , age_mean_smoking_status_stroke_0))\n",
    "print('means concat : ' , means_age)\n",
    "\n",
    "smoking_status_concat = np.concatenate((smoking_status, smoking_status))\n",
    "print('smoking status concat : ' , smoking_status_concat)"
   ]
  },
  {
   "cell_type": "code",
   "execution_count": 117,
   "metadata": {},
   "outputs": [],
   "source": [
    "# our labels \n",
    "stroke_status = [1 , 1 , 1 ,1 , 0 , 0 , 0 , 0]"
   ]
  },
  {
   "cell_type": "code",
   "execution_count": 118,
   "metadata": {},
   "outputs": [
    {
     "data": {
      "text/html": [
       "<div>\n",
       "<style scoped>\n",
       "    .dataframe tbody tr th:only-of-type {\n",
       "        vertical-align: middle;\n",
       "    }\n",
       "\n",
       "    .dataframe tbody tr th {\n",
       "        vertical-align: top;\n",
       "    }\n",
       "\n",
       "    .dataframe thead th {\n",
       "        text-align: right;\n",
       "    }\n",
       "</style>\n",
       "<table border=\"1\" class=\"dataframe\">\n",
       "  <thead>\n",
       "    <tr style=\"text-align: right;\">\n",
       "      <th></th>\n",
       "      <th>Smoking status</th>\n",
       "      <th>Age means</th>\n",
       "      <th>Stroke status</th>\n",
       "    </tr>\n",
       "  </thead>\n",
       "  <tbody>\n",
       "    <tr>\n",
       "      <th>0</th>\n",
       "      <td>formerly smoked</td>\n",
       "      <td>68.628571</td>\n",
       "      <td>1</td>\n",
       "    </tr>\n",
       "    <tr>\n",
       "      <th>1</th>\n",
       "      <td>never smoked</td>\n",
       "      <td>70.311111</td>\n",
       "      <td>1</td>\n",
       "    </tr>\n",
       "    <tr>\n",
       "      <th>2</th>\n",
       "      <td>smokes</td>\n",
       "      <td>62.809524</td>\n",
       "      <td>1</td>\n",
       "    </tr>\n",
       "    <tr>\n",
       "      <th>3</th>\n",
       "      <td>Unknown</td>\n",
       "      <td>65.836596</td>\n",
       "      <td>1</td>\n",
       "    </tr>\n",
       "    <tr>\n",
       "      <th>4</th>\n",
       "      <td>formerly smoked</td>\n",
       "      <td>53.753374</td>\n",
       "      <td>0</td>\n",
       "    </tr>\n",
       "    <tr>\n",
       "      <th>5</th>\n",
       "      <td>never smoked</td>\n",
       "      <td>45.567703</td>\n",
       "      <td>0</td>\n",
       "    </tr>\n",
       "    <tr>\n",
       "      <th>6</th>\n",
       "      <td>smokes</td>\n",
       "      <td>46.212851</td>\n",
       "      <td>0</td>\n",
       "    </tr>\n",
       "    <tr>\n",
       "      <th>7</th>\n",
       "      <td>Unknown</td>\n",
       "      <td>29.112011</td>\n",
       "      <td>0</td>\n",
       "    </tr>\n",
       "  </tbody>\n",
       "</table>\n",
       "</div>"
      ],
      "text/plain": [
       "    Smoking status  Age means  Stroke status\n",
       "0  formerly smoked  68.628571              1\n",
       "1     never smoked  70.311111              1\n",
       "2           smokes  62.809524              1\n",
       "3          Unknown  65.836596              1\n",
       "4  formerly smoked  53.753374              0\n",
       "5     never smoked  45.567703              0\n",
       "6           smokes  46.212851              0\n",
       "7          Unknown  29.112011              0"
      ]
     },
     "execution_count": 118,
     "metadata": {},
     "output_type": "execute_result"
    }
   ],
   "source": [
    "# creating new dataframe \n",
    "df_agemean_smoking_status_stroke = pd.DataFrame({'Smoking status' : smoking_status_concat , 'Age means' : means_age , \n",
    "                                                 'Stroke status' : stroke_status})\n",
    "df_agemean_smoking_status_stroke"
   ]
  },
  {
   "cell_type": "code",
   "execution_count": 119,
   "metadata": {},
   "outputs": [
    {
     "data": {
      "image/png": "[encoded data removed]",
      "text/plain": [
       "<Figure size 288x576 with 2 Axes>"
      ]
     },
     "metadata": {},
     "output_type": "display_data"
    }
   ],
   "source": [
    "g = sns.FacetGrid(df_agemean_smoking_status_stroke , row = 'Stroke status' , size = 4)\n",
    "g.map(sns.barplot , 'Age means', 'Smoking status' , color = 'orange')\n",
    "plt.title('Smoking status by age mean relation with stroke')\n",
    "plt.show()"
   ]
  },
  {
   "cell_type": "markdown",
   "metadata": {},
   "source": [
    "### Smoking status by avg_glucose_level mean relation with stroke"
   ]
  },
  {
   "cell_type": "code",
   "execution_count": 120,
   "metadata": {},
   "outputs": [
    {
     "name": "stdout",
     "output_type": "stream",
     "text": [
      "Stroke status 1 : [132.80685714285713, 132.9072222222223, 139.98785714285717, 124.80893617021279]\n",
      "Stroke status 0 : [111.17509202453975, 106.29204217536088, 106.21990629183395, 98.81012692050778]\n",
      "means concat :  [132.80685714 132.90722222 139.98785714 124.80893617 111.17509202\n",
      " 106.29204218 106.21990629  98.81012692]\n"
     ]
    }
   ],
   "source": [
    "# for saving mean values by smoking status\n",
    "avg_mean_smoking_status_stroke_1 = []\n",
    "avg_mean_smoking_status_stroke_0 = []\n",
    "\n",
    "for j in smoking_status:\n",
    "    avg_mean_smoking_status_stroke_1.append(data.avg_glucose_level[(data['smoking_status'] == '{}'.format(j)) & (data['stroke'] == 1)].mean())\n",
    "    avg_mean_smoking_status_stroke_0.append(data.avg_glucose_level[(data['smoking_status'] == '{}'.format(j)) & (data['stroke'] == 0)].mean())   \n",
    "\n",
    "print('Stroke status 1 :' , avg_mean_smoking_status_stroke_1)\n",
    "print('Stroke status 0 :' , avg_mean_smoking_status_stroke_0)\n",
    "\n",
    "# concat the array for dataframe that we will create need to label \n",
    "means_avg = np.concatenate((avg_mean_smoking_status_stroke_1 , avg_mean_smoking_status_stroke_0))\n",
    "print('means concat : ' , means_avg)\n"
   ]
  },
  {
   "cell_type": "code",
   "execution_count": 121,
   "metadata": {},
   "outputs": [
    {
     "data": {
      "text/html": [
       "<div>\n",
       "<style scoped>\n",
       "    .dataframe tbody tr th:only-of-type {\n",
       "        vertical-align: middle;\n",
       "    }\n",
       "\n",
       "    .dataframe tbody tr th {\n",
       "        vertical-align: top;\n",
       "    }\n",
       "\n",
       "    .dataframe thead th {\n",
       "        text-align: right;\n",
       "    }\n",
       "</style>\n",
       "<table border=\"1\" class=\"dataframe\">\n",
       "  <thead>\n",
       "    <tr style=\"text-align: right;\">\n",
       "      <th></th>\n",
       "      <th>Smoking status</th>\n",
       "      <th>Avg glucose level means</th>\n",
       "      <th>Stroke status</th>\n",
       "    </tr>\n",
       "  </thead>\n",
       "  <tbody>\n",
       "    <tr>\n",
       "      <th>0</th>\n",
       "      <td>formerly smoked</td>\n",
       "      <td>132.806857</td>\n",
       "      <td>1</td>\n",
       "    </tr>\n",
       "    <tr>\n",
       "      <th>1</th>\n",
       "      <td>never smoked</td>\n",
       "      <td>132.907222</td>\n",
       "      <td>1</td>\n",
       "    </tr>\n",
       "    <tr>\n",
       "      <th>2</th>\n",
       "      <td>smokes</td>\n",
       "      <td>139.987857</td>\n",
       "      <td>1</td>\n",
       "    </tr>\n",
       "    <tr>\n",
       "      <th>3</th>\n",
       "      <td>Unknown</td>\n",
       "      <td>124.808936</td>\n",
       "      <td>1</td>\n",
       "    </tr>\n",
       "    <tr>\n",
       "      <th>4</th>\n",
       "      <td>formerly smoked</td>\n",
       "      <td>111.175092</td>\n",
       "      <td>0</td>\n",
       "    </tr>\n",
       "    <tr>\n",
       "      <th>5</th>\n",
       "      <td>never smoked</td>\n",
       "      <td>106.292042</td>\n",
       "      <td>0</td>\n",
       "    </tr>\n",
       "    <tr>\n",
       "      <th>6</th>\n",
       "      <td>smokes</td>\n",
       "      <td>106.219906</td>\n",
       "      <td>0</td>\n",
       "    </tr>\n",
       "    <tr>\n",
       "      <th>7</th>\n",
       "      <td>Unknown</td>\n",
       "      <td>98.810127</td>\n",
       "      <td>0</td>\n",
       "    </tr>\n",
       "  </tbody>\n",
       "</table>\n",
       "</div>"
      ],
      "text/plain": [
       "    Smoking status  Avg glucose level means  Stroke status\n",
       "0  formerly smoked               132.806857              1\n",
       "1     never smoked               132.907222              1\n",
       "2           smokes               139.987857              1\n",
       "3          Unknown               124.808936              1\n",
       "4  formerly smoked               111.175092              0\n",
       "5     never smoked               106.292042              0\n",
       "6           smokes               106.219906              0\n",
       "7          Unknown                98.810127              0"
      ]
     },
     "execution_count": 121,
     "metadata": {},
     "output_type": "execute_result"
    }
   ],
   "source": [
    "# creating new dataframe \n",
    "df_avgmean_smoking_status_stroke = pd.DataFrame({'Smoking status' : smoking_status_concat , 'Avg glucose level means' : means_avg , \n",
    "                                                 'Stroke status' : stroke_status})\n",
    "df_avgmean_smoking_status_stroke"
   ]
  },
  {
   "cell_type": "code",
   "execution_count": 122,
   "metadata": {},
   "outputs": [
    {
     "data": {
      "image/png": "[encoded data removed]",
      "text/plain": [
       "<Figure size 288x576 with 2 Axes>"
      ]
     },
     "metadata": {},
     "output_type": "display_data"
    }
   ],
   "source": [
    "g = sns.FacetGrid(df_avgmean_smoking_status_stroke , row = 'Stroke status' , size = 4)\n",
    "g.map(sns.barplot , 'Avg glucose level means', 'Smoking status' , color = 'green')\n",
    "plt.title('Smoking status by avg glucose level mean relation with stroke')\n",
    "plt.show()"
   ]
  },
  {
   "cell_type": "markdown",
   "metadata": {},
   "source": [
    "### Smoking status by bmi mean relation with stroke"
   ]
  },
  {
   "cell_type": "code",
   "execution_count": 123,
   "metadata": {},
   "outputs": [
    {
     "name": "stdout",
     "output_type": "stream",
     "text": [
      "Stroke status 1 : [31.0140350877193, 30.43928571428572, 30.579487179487177, 29.351724137931036]\n",
      "Stroke status 0 : [30.727692307692326, 29.96085972850679, 30.541547277936935, 25.592847317744145]\n",
      "means concat :  [31.01403509 30.43928571 30.57948718 29.35172414 30.72769231 29.96085973\n",
      " 30.54154728 25.59284732]\n"
     ]
    }
   ],
   "source": [
    "# for saving mean values by smoking status\n",
    "bmi_mean_smoking_status_stroke_1 = []\n",
    "bmi_mean_smoking_status_stroke_0 = []\n",
    "\n",
    "for j in smoking_status:\n",
    "    bmi_mean_smoking_status_stroke_1.append(data.bmi[(data['smoking_status'] == '{}'.format(j)) & (data['stroke'] == 1)].mean())\n",
    "    bmi_mean_smoking_status_stroke_0.append(data.bmi[(data['smoking_status'] == '{}'.format(j)) & (data['stroke'] == 0)].mean())   \n",
    "\n",
    "print('Stroke status 1 :' , bmi_mean_smoking_status_stroke_1)\n",
    "print('Stroke status 0 :' , bmi_mean_smoking_status_stroke_0)\n",
    "\n",
    "# concat the array for dataframe that we will create need to label \n",
    "means_bmi = np.concatenate((bmi_mean_smoking_status_stroke_1 , bmi_mean_smoking_status_stroke_0))\n",
    "print('means concat : ' , means_bmi)"
   ]
  },
  {
   "cell_type": "code",
   "execution_count": 124,
   "metadata": {},
   "outputs": [
    {
     "data": {
      "text/html": [
       "<div>\n",
       "<style scoped>\n",
       "    .dataframe tbody tr th:only-of-type {\n",
       "        vertical-align: middle;\n",
       "    }\n",
       "\n",
       "    .dataframe tbody tr th {\n",
       "        vertical-align: top;\n",
       "    }\n",
       "\n",
       "    .dataframe thead th {\n",
       "        text-align: right;\n",
       "    }\n",
       "</style>\n",
       "<table border=\"1\" class=\"dataframe\">\n",
       "  <thead>\n",
       "    <tr style=\"text-align: right;\">\n",
       "      <th></th>\n",
       "      <th>Smoking status</th>\n",
       "      <th>Bmi level means</th>\n",
       "      <th>Stroke status</th>\n",
       "    </tr>\n",
       "  </thead>\n",
       "  <tbody>\n",
       "    <tr>\n",
       "      <th>0</th>\n",
       "      <td>formerly smoked</td>\n",
       "      <td>31.014035</td>\n",
       "      <td>1</td>\n",
       "    </tr>\n",
       "    <tr>\n",
       "      <th>1</th>\n",
       "      <td>never smoked</td>\n",
       "      <td>30.439286</td>\n",
       "      <td>1</td>\n",
       "    </tr>\n",
       "    <tr>\n",
       "      <th>2</th>\n",
       "      <td>smokes</td>\n",
       "      <td>30.579487</td>\n",
       "      <td>1</td>\n",
       "    </tr>\n",
       "    <tr>\n",
       "      <th>3</th>\n",
       "      <td>Unknown</td>\n",
       "      <td>29.351724</td>\n",
       "      <td>1</td>\n",
       "    </tr>\n",
       "    <tr>\n",
       "      <th>4</th>\n",
       "      <td>formerly smoked</td>\n",
       "      <td>30.727692</td>\n",
       "      <td>0</td>\n",
       "    </tr>\n",
       "    <tr>\n",
       "      <th>5</th>\n",
       "      <td>never smoked</td>\n",
       "      <td>29.960860</td>\n",
       "      <td>0</td>\n",
       "    </tr>\n",
       "    <tr>\n",
       "      <th>6</th>\n",
       "      <td>smokes</td>\n",
       "      <td>30.541547</td>\n",
       "      <td>0</td>\n",
       "    </tr>\n",
       "    <tr>\n",
       "      <th>7</th>\n",
       "      <td>Unknown</td>\n",
       "      <td>25.592847</td>\n",
       "      <td>0</td>\n",
       "    </tr>\n",
       "  </tbody>\n",
       "</table>\n",
       "</div>"
      ],
      "text/plain": [
       "    Smoking status  Bmi level means  Stroke status\n",
       "0  formerly smoked        31.014035              1\n",
       "1     never smoked        30.439286              1\n",
       "2           smokes        30.579487              1\n",
       "3          Unknown        29.351724              1\n",
       "4  formerly smoked        30.727692              0\n",
       "5     never smoked        29.960860              0\n",
       "6           smokes        30.541547              0\n",
       "7          Unknown        25.592847              0"
      ]
     },
     "execution_count": 124,
     "metadata": {},
     "output_type": "execute_result"
    }
   ],
   "source": [
    "# creating new dataframe \n",
    "df_bmimean_smoking_status_stroke = pd.DataFrame({'Smoking status' : smoking_status_concat , 'Bmi level means' : means_bmi , \n",
    "                                                 'Stroke status' : stroke_status})\n",
    "df_bmimean_smoking_status_stroke"
   ]
  },
  {
   "cell_type": "code",
   "execution_count": 125,
   "metadata": {},
   "outputs": [
    {
     "data": {
      "image/png": "[encoded data removed]",
      "text/plain": [
       "<Figure size 288x576 with 2 Axes>"
      ]
     },
     "metadata": {},
     "output_type": "display_data"
    }
   ],
   "source": [
    "g = sns.FacetGrid(df_bmimean_smoking_status_stroke , row = 'Stroke status' , size = 4)\n",
    "g.map(sns.barplot , 'Bmi level means', 'Smoking status' , color = 'yellow')\n",
    "plt.title('Smoking status by bmi level mean relation with stroke')\n",
    "plt.show()"
   ]
  },
  {
   "cell_type": "markdown",
   "metadata": {},
   "source": [
    "### Genaral visualization for that we did feature engineering"
   ]
  },
  {
   "cell_type": "code",
   "execution_count": 126,
   "metadata": {},
   "outputs": [],
   "source": [
    "# droppin the labels two data frame \n",
    "df_agemean_smoking_status_stroke.drop('Stroke status' , axis = 1 , inplace = True)\n",
    "df_avgmean_smoking_status_stroke.drop('Stroke status' , axis = 1 , inplace = True)\n",
    "\n",
    "df_avgmean_smoking_status_stroke.drop('Smoking status' , axis = 1 , inplace = True)\n",
    "df_bmimean_smoking_status_stroke.drop('Smoking status' , axis = 1 , inplace = True)"
   ]
  },
  {
   "cell_type": "code",
   "execution_count": 127,
   "metadata": {},
   "outputs": [],
   "source": [
    "# concat the dataframes \n",
    "df_general = pd.concat([df_agemean_smoking_status_stroke , df_avgmean_smoking_status_stroke , df_bmimean_smoking_status_stroke],\n",
    "                      axis = 1)"
   ]
  },
  {
   "cell_type": "code",
   "execution_count": 128,
   "metadata": {},
   "outputs": [
    {
     "data": {
      "text/html": [
       "<div>\n",
       "<style scoped>\n",
       "    .dataframe tbody tr th:only-of-type {\n",
       "        vertical-align: middle;\n",
       "    }\n",
       "\n",
       "    .dataframe tbody tr th {\n",
       "        vertical-align: top;\n",
       "    }\n",
       "\n",
       "    .dataframe thead th {\n",
       "        text-align: right;\n",
       "    }\n",
       "</style>\n",
       "<table border=\"1\" class=\"dataframe\">\n",
       "  <thead>\n",
       "    <tr style=\"text-align: right;\">\n",
       "      <th></th>\n",
       "      <th>Smoking status</th>\n",
       "      <th>Age means</th>\n",
       "      <th>Avg glucose level means</th>\n",
       "      <th>Bmi level means</th>\n",
       "      <th>Stroke status</th>\n",
       "    </tr>\n",
       "  </thead>\n",
       "  <tbody>\n",
       "    <tr>\n",
       "      <th>0</th>\n",
       "      <td>formerly smoked</td>\n",
       "      <td>68.628571</td>\n",
       "      <td>132.806857</td>\n",
       "      <td>31.014035</td>\n",
       "      <td>1</td>\n",
       "    </tr>\n",
       "    <tr>\n",
       "      <th>1</th>\n",
       "      <td>never smoked</td>\n",
       "      <td>70.311111</td>\n",
       "      <td>132.907222</td>\n",
       "      <td>30.439286</td>\n",
       "      <td>1</td>\n",
       "    </tr>\n",
       "    <tr>\n",
       "      <th>2</th>\n",
       "      <td>smokes</td>\n",
       "      <td>62.809524</td>\n",
       "      <td>139.987857</td>\n",
       "      <td>30.579487</td>\n",
       "      <td>1</td>\n",
       "    </tr>\n",
       "    <tr>\n",
       "      <th>3</th>\n",
       "      <td>Unknown</td>\n",
       "      <td>65.836596</td>\n",
       "      <td>124.808936</td>\n",
       "      <td>29.351724</td>\n",
       "      <td>1</td>\n",
       "    </tr>\n",
       "    <tr>\n",
       "      <th>4</th>\n",
       "      <td>formerly smoked</td>\n",
       "      <td>53.753374</td>\n",
       "      <td>111.175092</td>\n",
       "      <td>30.727692</td>\n",
       "      <td>0</td>\n",
       "    </tr>\n",
       "    <tr>\n",
       "      <th>5</th>\n",
       "      <td>never smoked</td>\n",
       "      <td>45.567703</td>\n",
       "      <td>106.292042</td>\n",
       "      <td>29.960860</td>\n",
       "      <td>0</td>\n",
       "    </tr>\n",
       "    <tr>\n",
       "      <th>6</th>\n",
       "      <td>smokes</td>\n",
       "      <td>46.212851</td>\n",
       "      <td>106.219906</td>\n",
       "      <td>30.541547</td>\n",
       "      <td>0</td>\n",
       "    </tr>\n",
       "    <tr>\n",
       "      <th>7</th>\n",
       "      <td>Unknown</td>\n",
       "      <td>29.112011</td>\n",
       "      <td>98.810127</td>\n",
       "      <td>25.592847</td>\n",
       "      <td>0</td>\n",
       "    </tr>\n",
       "  </tbody>\n",
       "</table>\n",
       "</div>"
      ],
      "text/plain": [
       "    Smoking status  Age means  Avg glucose level means  Bmi level means  \\\n",
       "0  formerly smoked  68.628571               132.806857        31.014035   \n",
       "1     never smoked  70.311111               132.907222        30.439286   \n",
       "2           smokes  62.809524               139.987857        30.579487   \n",
       "3          Unknown  65.836596               124.808936        29.351724   \n",
       "4  formerly smoked  53.753374               111.175092        30.727692   \n",
       "5     never smoked  45.567703               106.292042        29.960860   \n",
       "6           smokes  46.212851               106.219906        30.541547   \n",
       "7          Unknown  29.112011                98.810127        25.592847   \n",
       "\n",
       "   Stroke status  \n",
       "0              1  \n",
       "1              1  \n",
       "2              1  \n",
       "3              1  \n",
       "4              0  \n",
       "5              0  \n",
       "6              0  \n",
       "7              0  "
      ]
     },
     "execution_count": 128,
     "metadata": {},
     "output_type": "execute_result"
    }
   ],
   "source": [
    "df_general"
   ]
  },
  {
   "cell_type": "code",
   "execution_count": 129,
   "metadata": {},
   "outputs": [
    {
     "data": {
      "image/png": "[encoded data removed]",
      "text/plain": [
       "<Figure size 360x720 with 2 Axes>"
      ]
     },
     "metadata": {},
     "output_type": "display_data"
    }
   ],
   "source": [
    "g = sns.FacetGrid(df_general , row = 'Stroke status' , size = 5)\n",
    "g.map(sns.barplot , 'Age means' , 'Smoking status' , label = 'Age means' , color = 'green' , alpha = 0.6)\n",
    "g.map(sns.barplot , 'Avg glucose level means' , 'Smoking status' , label = 'Avg glucose level means' , color = 'green' , alpha = 0.4)\n",
    "g.map(sns.barplot , 'Bmi level means' , 'Smoking status' , label = 'Bmi level means' , color = 'green' , alpha = 0.3)\n",
    "plt.legend()\n",
    "plt.show()"
   ]
  },
  {
   "cell_type": "markdown",
   "metadata": {},
   "source": [
    "### Density map of numerical values"
   ]
  },
  {
   "cell_type": "code",
   "execution_count": 130,
   "metadata": {},
   "outputs": [
    {
     "data": {
      "image/png": "[encoded data removed]",
      "text/plain": [
       "<Figure size 432x288 with 1 Axes>"
      ]
     },
     "metadata": {},
     "output_type": "display_data"
    }
   ],
   "source": [
    "# hypertension and bmi relation\n",
    "sns.kdeplot(x = 'hypertension' , y = 'bmi' , data = data , shade = True , color = 'red')\n",
    "plt.show()"
   ]
  },
  {
   "cell_type": "code",
   "execution_count": 131,
   "metadata": {},
   "outputs": [
    {
     "data": {
      "image/png": "[encoded data removed]",
      "text/plain": [
       "<Figure size 432x288 with 1 Axes>"
      ]
     },
     "metadata": {},
     "output_type": "display_data"
    }
   ],
   "source": [
    "# hypertension and age relation\n",
    "sns.kdeplot(x = 'age' , y = 'hypertension' , data = data , shade = True , color = 'red')\n",
    "plt.show()"
   ]
  },
  {
   "cell_type": "markdown",
   "metadata": {},
   "source": [
    "* We can see if hypertension is 1 actually the people have ever have a hypertension problem the age rises."
   ]
  },
  {
   "cell_type": "markdown",
   "metadata": {},
   "source": [
    "## Examined to median values in numerical values"
   ]
  },
  {
   "cell_type": "code",
   "execution_count": 132,
   "metadata": {},
   "outputs": [
    {
     "data": {
      "image/png": "[encoded data removed]",
      "text/plain": [
       "<Figure size 432x288 with 1 Axes>"
      ]
     },
     "metadata": {},
     "output_type": "display_data"
    }
   ],
   "source": [
    "sns.boxplot(x = 'stroke' , y = 'age' , hue = 'smoking_status' , data = data)\n",
    "plt.show()"
   ]
  },
  {
   "cell_type": "code",
   "execution_count": 133,
   "metadata": {},
   "outputs": [
    {
     "data": {
      "image/png": "[encoded data removed]",
      "text/plain": [
       "<Figure size 432x288 with 1 Axes>"
      ]
     },
     "metadata": {},
     "output_type": "display_data"
    }
   ],
   "source": [
    "sns.boxplot(x = 'stroke' , y = 'bmi' , hue = 'smoking_status' , data = data)\n",
    "plt.show()"
   ]
  },
  {
   "cell_type": "code",
   "execution_count": 134,
   "metadata": {},
   "outputs": [
    {
     "data": {
      "image/png": "[encoded data removed]",
      "text/plain": [
       "<Figure size 720x576 with 1 Axes>"
      ]
     },
     "metadata": {},
     "output_type": "display_data"
    }
   ],
   "source": [
    "fig_dims = (10, 8)\n",
    "fig, ax = plt.subplots(figsize = fig_dims)\n",
    "sns.boxplot(x = 'stroke' , y = 'avg_glucose_level' , hue = 'smoking_status' , ax = ax , data = data)\n",
    "plt.legend(loc='upper right')\n",
    "plt.show()"
   ]
  },
  {
   "cell_type": "markdown",
   "metadata": {},
   "source": [
    "* We can see these plots with outlier values"
   ]
  },
  {
   "cell_type": "markdown",
   "metadata": {},
   "source": [
    "## Control the outlier values for numerical values"
   ]
  },
  {
   "cell_type": "code",
   "execution_count": 135,
   "metadata": {},
   "outputs": [
    {
     "name": "stdout",
     "output_type": "stream",
     "text": [
      "<class 'pandas.core.frame.DataFrame'>\n",
      "RangeIndex: 5110 entries, 0 to 5109\n",
      "Data columns (total 12 columns):\n",
      " #   Column             Non-Null Count  Dtype  \n",
      "---  ------             --------------  -----  \n",
      " 0   id                 5110 non-null   int64  \n",
      " 1   gender             5110 non-null   object \n",
      " 2   age                5110 non-null   float64\n",
      " 3   hypertension       5110 non-null   int64  \n",
      " 4   heart_disease      5110 non-null   int64  \n",
      " 5   ever_married       5110 non-null   object \n",
      " 6   work_type          5110 non-null   object \n",
      " 7   Residence_type     5110 non-null   object \n",
      " 8   avg_glucose_level  5110 non-null   float64\n",
      " 9   bmi                4909 non-null   float64\n",
      " 10  smoking_status     5110 non-null   object \n",
      " 11  stroke             5110 non-null   int64  \n",
      "dtypes: float64(3), int64(4), object(5)\n",
      "memory usage: 479.2+ KB\n"
     ]
    }
   ],
   "source": [
    "data.info()"
   ]
  },
  {
   "cell_type": "code",
   "execution_count": 136,
   "metadata": {},
   "outputs": [],
   "source": [
    "# create a two list for store the indices and counting indices \n",
    "outlier_indices = []\n",
    "outlier_values = []"
   ]
  },
  {
   "cell_type": "code",
   "execution_count": 137,
   "metadata": {
    "scrolled": true
   },
   "outputs": [],
   "source": [
    "# detecth the outliers \n",
    "def outlier_detecth(df , features):\n",
    "    \n",
    "    for i in features:\n",
    "    \n",
    "        # finding first quantie \n",
    "    \n",
    "        Q1 = np.percentile(data[i] , 25)\n",
    "        print('First quantie : ' , Q1)\n",
    "    \n",
    "        # finding third quantie \n",
    "    \n",
    "        Q3 = np.percentile(data[i] , 75)\n",
    "        print('Third quantie : ' , Q3)\n",
    "    \n",
    "        # calculate the IQR \n",
    "    \n",
    "        IQR = Q3 - Q1\n",
    "        print('The IQR : ' , IQR)\n",
    "    \n",
    "        # determine the threshold value \n",
    "    \n",
    "        threshold_value = IQR * 1.5\n",
    "        print('The outlier threshold value : ' , threshold_value )\n",
    "    \n",
    "        # detecth the outlier values \n",
    "    \n",
    "        outlier_list = data[(data[i] < Q1 - threshold_value) | (data[i] > Q3 + threshold_value)].index\n",
    "        \n",
    "        # calculate the outlier values \n",
    "        \n",
    "        outlier_indices.extend(outlier_list)\n",
    "    \n",
    "    outlier_values = Counter(outlier_indices)\n",
    "    \n",
    "    return outlier_values"
   ]
  },
  {
   "cell_type": "code",
   "execution_count": 138,
   "metadata": {},
   "outputs": [
    {
     "name": "stdout",
     "output_type": "stream",
     "text": [
      "First quantie :  77.24499999999999\n",
      "Third quantie :  114.09\n",
      "The IQR :  36.84500000000001\n",
      "The outlier threshold value :  55.26750000000002\n",
      "First quantie :  25.0\n",
      "Third quantie :  61.0\n",
      "The IQR :  36.0\n",
      "The outlier threshold value :  54.0\n"
     ]
    }
   ],
   "source": [
    "outlier_values = outlier_detecth(data , ['avg_glucose_level' , 'age'])"
   ]
  },
  {
   "cell_type": "code",
   "execution_count": 139,
   "metadata": {},
   "outputs": [
    {
     "data": {
      "text/plain": [
       "Counter({0: 1,\n",
       "         1: 1,\n",
       "         3: 1,\n",
       "         4: 1,\n",
       "         5: 1,\n",
       "         13: 1,\n",
       "         14: 1,\n",
       "         16: 1,\n",
       "         17: 1,\n",
       "         19: 1,\n",
       "         20: 1,\n",
       "         21: 1,\n",
       "         22: 1,\n",
       "         23: 1,\n",
       "         27: 1,\n",
       "         28: 1,\n",
       "         29: 1,\n",
       "         30: 1,\n",
       "         32: 1,\n",
       "         33: 1,\n",
       "         36: 1,\n",
       "         44: 1,\n",
       "         45: 1,\n",
       "         54: 1,\n",
       "         55: 1,\n",
       "         57: 1,\n",
       "         58: 1,\n",
       "         59: 1,\n",
       "         60: 1,\n",
       "         66: 1,\n",
       "         71: 1,\n",
       "         73: 1,\n",
       "         76: 1,\n",
       "         90: 1,\n",
       "         95: 1,\n",
       "         97: 1,\n",
       "         101: 1,\n",
       "         102: 1,\n",
       "         107: 1,\n",
       "         113: 1,\n",
       "         115: 1,\n",
       "         122: 1,\n",
       "         123: 1,\n",
       "         124: 1,\n",
       "         128: 1,\n",
       "         130: 1,\n",
       "         132: 1,\n",
       "         134: 1,\n",
       "         135: 1,\n",
       "         137: 1,\n",
       "         138: 1,\n",
       "         139: 1,\n",
       "         144: 1,\n",
       "         149: 1,\n",
       "         150: 1,\n",
       "         151: 1,\n",
       "         155: 1,\n",
       "         157: 1,\n",
       "         158: 1,\n",
       "         163: 1,\n",
       "         175: 1,\n",
       "         179: 1,\n",
       "         187: 1,\n",
       "         189: 1,\n",
       "         190: 1,\n",
       "         193: 1,\n",
       "         195: 1,\n",
       "         196: 1,\n",
       "         201: 1,\n",
       "         212: 1,\n",
       "         215: 1,\n",
       "         217: 1,\n",
       "         218: 1,\n",
       "         219: 1,\n",
       "         220: 1,\n",
       "         222: 1,\n",
       "         225: 1,\n",
       "         226: 1,\n",
       "         233: 1,\n",
       "         234: 1,\n",
       "         235: 1,\n",
       "         241: 1,\n",
       "         242: 1,\n",
       "         243: 1,\n",
       "         254: 1,\n",
       "         256: 1,\n",
       "         258: 1,\n",
       "         272: 1,\n",
       "         277: 1,\n",
       "         278: 1,\n",
       "         293: 1,\n",
       "         298: 1,\n",
       "         303: 1,\n",
       "         307: 1,\n",
       "         314: 1,\n",
       "         318: 1,\n",
       "         325: 1,\n",
       "         326: 1,\n",
       "         330: 1,\n",
       "         331: 1,\n",
       "         332: 1,\n",
       "         337: 1,\n",
       "         343: 1,\n",
       "         350: 1,\n",
       "         355: 1,\n",
       "         360: 1,\n",
       "         365: 1,\n",
       "         386: 1,\n",
       "         396: 1,\n",
       "         399: 1,\n",
       "         411: 1,\n",
       "         417: 1,\n",
       "         426: 1,\n",
       "         429: 1,\n",
       "         433: 1,\n",
       "         436: 1,\n",
       "         444: 1,\n",
       "         456: 1,\n",
       "         466: 1,\n",
       "         467: 1,\n",
       "         468: 1,\n",
       "         477: 1,\n",
       "         479: 1,\n",
       "         492: 1,\n",
       "         515: 1,\n",
       "         544: 1,\n",
       "         549: 1,\n",
       "         551: 1,\n",
       "         552: 1,\n",
       "         559: 1,\n",
       "         563: 1,\n",
       "         570: 1,\n",
       "         576: 1,\n",
       "         581: 1,\n",
       "         583: 1,\n",
       "         585: 1,\n",
       "         595: 1,\n",
       "         598: 1,\n",
       "         599: 1,\n",
       "         610: 1,\n",
       "         616: 1,\n",
       "         620: 1,\n",
       "         642: 1,\n",
       "         706: 1,\n",
       "         708: 1,\n",
       "         719: 1,\n",
       "         744: 1,\n",
       "         746: 1,\n",
       "         755: 1,\n",
       "         762: 1,\n",
       "         770: 1,\n",
       "         785: 1,\n",
       "         816: 1,\n",
       "         846: 1,\n",
       "         848: 1,\n",
       "         851: 1,\n",
       "         865: 1,\n",
       "         867: 1,\n",
       "         880: 1,\n",
       "         887: 1,\n",
       "         894: 1,\n",
       "         923: 1,\n",
       "         929: 1,\n",
       "         930: 1,\n",
       "         946: 1,\n",
       "         948: 1,\n",
       "         970: 1,\n",
       "         971: 1,\n",
       "         1011: 1,\n",
       "         1059: 1,\n",
       "         1061: 1,\n",
       "         1067: 1,\n",
       "         1070: 1,\n",
       "         1071: 1,\n",
       "         1092: 1,\n",
       "         1097: 1,\n",
       "         1102: 1,\n",
       "         1104: 1,\n",
       "         1113: 1,\n",
       "         1118: 1,\n",
       "         1131: 1,\n",
       "         1158: 1,\n",
       "         1166: 1,\n",
       "         1173: 1,\n",
       "         1178: 1,\n",
       "         1187: 1,\n",
       "         1189: 1,\n",
       "         1200: 1,\n",
       "         1202: 1,\n",
       "         1207: 1,\n",
       "         1214: 1,\n",
       "         1225: 1,\n",
       "         1228: 1,\n",
       "         1233: 1,\n",
       "         1245: 1,\n",
       "         1250: 1,\n",
       "         1257: 1,\n",
       "         1277: 1,\n",
       "         1282: 1,\n",
       "         1300: 1,\n",
       "         1309: 1,\n",
       "         1319: 1,\n",
       "         1322: 1,\n",
       "         1339: 1,\n",
       "         1343: 1,\n",
       "         1346: 1,\n",
       "         1379: 1,\n",
       "         1382: 1,\n",
       "         1384: 1,\n",
       "         1398: 1,\n",
       "         1411: 1,\n",
       "         1412: 1,\n",
       "         1414: 1,\n",
       "         1428: 1,\n",
       "         1436: 1,\n",
       "         1453: 1,\n",
       "         1457: 1,\n",
       "         1468: 1,\n",
       "         1472: 1,\n",
       "         1474: 1,\n",
       "         1485: 1,\n",
       "         1487: 1,\n",
       "         1497: 1,\n",
       "         1503: 1,\n",
       "         1512: 1,\n",
       "         1526: 1,\n",
       "         1529: 1,\n",
       "         1531: 1,\n",
       "         1533: 1,\n",
       "         1534: 1,\n",
       "         1535: 1,\n",
       "         1540: 1,\n",
       "         1547: 1,\n",
       "         1553: 1,\n",
       "         1588: 1,\n",
       "         1596: 1,\n",
       "         1598: 1,\n",
       "         1607: 1,\n",
       "         1626: 1,\n",
       "         1627: 1,\n",
       "         1628: 1,\n",
       "         1650: 1,\n",
       "         1654: 1,\n",
       "         1655: 1,\n",
       "         1659: 1,\n",
       "         1667: 1,\n",
       "         1675: 1,\n",
       "         1681: 1,\n",
       "         1698: 1,\n",
       "         1704: 1,\n",
       "         1711: 1,\n",
       "         1718: 1,\n",
       "         1723: 1,\n",
       "         1732: 1,\n",
       "         1737: 1,\n",
       "         1756: 1,\n",
       "         1759: 1,\n",
       "         1769: 1,\n",
       "         1778: 1,\n",
       "         1780: 1,\n",
       "         1782: 1,\n",
       "         1795: 1,\n",
       "         1798: 1,\n",
       "         1816: 1,\n",
       "         1820: 1,\n",
       "         1827: 1,\n",
       "         1837: 1,\n",
       "         1840: 1,\n",
       "         1841: 1,\n",
       "         1843: 1,\n",
       "         1853: 1,\n",
       "         1862: 1,\n",
       "         1873: 1,\n",
       "         1880: 1,\n",
       "         1888: 1,\n",
       "         1889: 1,\n",
       "         1892: 1,\n",
       "         1893: 1,\n",
       "         1898: 1,\n",
       "         1905: 1,\n",
       "         1952: 1,\n",
       "         1971: 1,\n",
       "         1981: 1,\n",
       "         1995: 1,\n",
       "         2004: 1,\n",
       "         2018: 1,\n",
       "         2044: 1,\n",
       "         2059: 1,\n",
       "         2067: 1,\n",
       "         2069: 1,\n",
       "         2079: 1,\n",
       "         2081: 1,\n",
       "         2089: 1,\n",
       "         2096: 1,\n",
       "         2102: 1,\n",
       "         2107: 1,\n",
       "         2124: 1,\n",
       "         2126: 1,\n",
       "         2129: 1,\n",
       "         2132: 1,\n",
       "         2135: 1,\n",
       "         2149: 1,\n",
       "         2158: 1,\n",
       "         2161: 1,\n",
       "         2166: 1,\n",
       "         2168: 1,\n",
       "         2169: 1,\n",
       "         2180: 1,\n",
       "         2182: 1,\n",
       "         2185: 1,\n",
       "         2200: 1,\n",
       "         2201: 1,\n",
       "         2203: 1,\n",
       "         2223: 1,\n",
       "         2228: 1,\n",
       "         2240: 1,\n",
       "         2255: 1,\n",
       "         2257: 1,\n",
       "         2273: 1,\n",
       "         2282: 1,\n",
       "         2284: 1,\n",
       "         2290: 1,\n",
       "         2291: 1,\n",
       "         2292: 1,\n",
       "         2293: 1,\n",
       "         2294: 1,\n",
       "         2303: 1,\n",
       "         2307: 1,\n",
       "         2318: 1,\n",
       "         2332: 1,\n",
       "         2336: 1,\n",
       "         2338: 1,\n",
       "         2365: 1,\n",
       "         2374: 1,\n",
       "         2383: 1,\n",
       "         2395: 1,\n",
       "         2418: 1,\n",
       "         2429: 1,\n",
       "         2439: 1,\n",
       "         2453: 1,\n",
       "         2455: 1,\n",
       "         2459: 1,\n",
       "         2462: 1,\n",
       "         2469: 1,\n",
       "         2486: 1,\n",
       "         2493: 1,\n",
       "         2494: 1,\n",
       "         2515: 1,\n",
       "         2520: 1,\n",
       "         2523: 1,\n",
       "         2532: 1,\n",
       "         2540: 1,\n",
       "         2544: 1,\n",
       "         2548: 1,\n",
       "         2553: 1,\n",
       "         2565: 1,\n",
       "         2569: 1,\n",
       "         2578: 1,\n",
       "         2583: 1,\n",
       "         2599: 1,\n",
       "         2600: 1,\n",
       "         2609: 1,\n",
       "         2612: 1,\n",
       "         2624: 1,\n",
       "         2629: 1,\n",
       "         2633: 1,\n",
       "         2637: 1,\n",
       "         2641: 1,\n",
       "         2661: 1,\n",
       "         2675: 1,\n",
       "         2676: 1,\n",
       "         2679: 1,\n",
       "         2682: 1,\n",
       "         2685: 1,\n",
       "         2686: 1,\n",
       "         2690: 1,\n",
       "         2693: 1,\n",
       "         2697: 1,\n",
       "         2699: 1,\n",
       "         2707: 1,\n",
       "         2710: 1,\n",
       "         2734: 1,\n",
       "         2751: 1,\n",
       "         2752: 1,\n",
       "         2757: 1,\n",
       "         2768: 1,\n",
       "         2846: 1,\n",
       "         2848: 1,\n",
       "         2849: 1,\n",
       "         2855: 1,\n",
       "         2866: 1,\n",
       "         2867: 1,\n",
       "         2880: 1,\n",
       "         2890: 1,\n",
       "         2893: 1,\n",
       "         2918: 1,\n",
       "         2928: 1,\n",
       "         2934: 1,\n",
       "         2947: 1,\n",
       "         2957: 1,\n",
       "         2960: 1,\n",
       "         2966: 1,\n",
       "         2981: 1,\n",
       "         2992: 1,\n",
       "         2997: 1,\n",
       "         3005: 1,\n",
       "         3008: 1,\n",
       "         3014: 1,\n",
       "         3017: 1,\n",
       "         3054: 1,\n",
       "         3060: 1,\n",
       "         3069: 1,\n",
       "         3074: 1,\n",
       "         3088: 1,\n",
       "         3130: 1,\n",
       "         3146: 1,\n",
       "         3148: 1,\n",
       "         3150: 1,\n",
       "         3152: 1,\n",
       "         3157: 1,\n",
       "         3161: 1,\n",
       "         3186: 1,\n",
       "         3197: 1,\n",
       "         3198: 1,\n",
       "         3215: 1,\n",
       "         3221: 1,\n",
       "         3224: 1,\n",
       "         3234: 1,\n",
       "         3238: 1,\n",
       "         3243: 1,\n",
       "         3252: 1,\n",
       "         3306: 1,\n",
       "         3318: 1,\n",
       "         3327: 1,\n",
       "         3342: 1,\n",
       "         3350: 1,\n",
       "         3360: 1,\n",
       "         3375: 1,\n",
       "         3376: 1,\n",
       "         3378: 1,\n",
       "         3381: 1,\n",
       "         3387: 1,\n",
       "         3391: 1,\n",
       "         3393: 1,\n",
       "         3406: 1,\n",
       "         3425: 1,\n",
       "         3427: 1,\n",
       "         3439: 1,\n",
       "         3455: 1,\n",
       "         3461: 1,\n",
       "         3462: 1,\n",
       "         3478: 1,\n",
       "         3480: 1,\n",
       "         3489: 1,\n",
       "         3500: 1,\n",
       "         3507: 1,\n",
       "         3510: 1,\n",
       "         3517: 1,\n",
       "         3522: 1,\n",
       "         3536: 1,\n",
       "         3537: 1,\n",
       "         3548: 1,\n",
       "         3564: 1,\n",
       "         3578: 1,\n",
       "         3587: 1,\n",
       "         3594: 1,\n",
       "         3599: 1,\n",
       "         3600: 1,\n",
       "         3606: 1,\n",
       "         3625: 1,\n",
       "         3627: 1,\n",
       "         3630: 1,\n",
       "         3637: 1,\n",
       "         3643: 1,\n",
       "         3658: 1,\n",
       "         3674: 1,\n",
       "         3686: 1,\n",
       "         3688: 1,\n",
       "         3699: 1,\n",
       "         3700: 1,\n",
       "         3718: 1,\n",
       "         3734: 1,\n",
       "         3753: 1,\n",
       "         3756: 1,\n",
       "         3771: 1,\n",
       "         3772: 1,\n",
       "         3779: 1,\n",
       "         3780: 1,\n",
       "         3781: 1,\n",
       "         3788: 1,\n",
       "         3802: 1,\n",
       "         3833: 1,\n",
       "         3882: 1,\n",
       "         3889: 1,\n",
       "         3892: 1,\n",
       "         3905: 1,\n",
       "         3909: 1,\n",
       "         3913: 1,\n",
       "         3925: 1,\n",
       "         3931: 1,\n",
       "         3943: 1,\n",
       "         3956: 1,\n",
       "         3959: 1,\n",
       "         3962: 1,\n",
       "         3964: 1,\n",
       "         3965: 1,\n",
       "         3980: 1,\n",
       "         3982: 1,\n",
       "         3994: 1,\n",
       "         4008: 1,\n",
       "         4022: 1,\n",
       "         4028: 1,\n",
       "         4037: 1,\n",
       "         4046: 1,\n",
       "         4048: 1,\n",
       "         4051: 1,\n",
       "         4054: 1,\n",
       "         4096: 1,\n",
       "         4104: 1,\n",
       "         4123: 1,\n",
       "         4129: 1,\n",
       "         4132: 1,\n",
       "         4164: 1,\n",
       "         4176: 1,\n",
       "         4201: 1,\n",
       "         4207: 1,\n",
       "         4240: 1,\n",
       "         4249: 1,\n",
       "         4261: 1,\n",
       "         4274: 1,\n",
       "         4283: 1,\n",
       "         4286: 1,\n",
       "         4290: 1,\n",
       "         4291: 1,\n",
       "         4304: 1,\n",
       "         4311: 1,\n",
       "         4321: 1,\n",
       "         4324: 1,\n",
       "         4325: 1,\n",
       "         4327: 1,\n",
       "         4329: 1,\n",
       "         4335: 1,\n",
       "         4339: 1,\n",
       "         4344: 1,\n",
       "         4356: 1,\n",
       "         4360: 1,\n",
       "         4366: 1,\n",
       "         4376: 1,\n",
       "         4377: 1,\n",
       "         4390: 1,\n",
       "         4434: 1,\n",
       "         4437: 1,\n",
       "         4446: 1,\n",
       "         4447: 1,\n",
       "         4453: 1,\n",
       "         4457: 1,\n",
       "         4470: 1,\n",
       "         4475: 1,\n",
       "         4497: 1,\n",
       "         4500: 1,\n",
       "         4504: 1,\n",
       "         4505: 1,\n",
       "         4507: 1,\n",
       "         4514: 1,\n",
       "         4515: 1,\n",
       "         4530: 1,\n",
       "         4539: 1,\n",
       "         4560: 1,\n",
       "         4577: 1,\n",
       "         4578: 1,\n",
       "         4582: 1,\n",
       "         4588: 1,\n",
       "         4589: 1,\n",
       "         4598: 1,\n",
       "         4616: 1,\n",
       "         4625: 1,\n",
       "         4627: 1,\n",
       "         4628: 1,\n",
       "         4636: 1,\n",
       "         4654: 1,\n",
       "         4665: 1,\n",
       "         4684: 1,\n",
       "         4696: 1,\n",
       "         4702: 1,\n",
       "         4708: 1,\n",
       "         4711: 1,\n",
       "         4724: 1,\n",
       "         4737: 1,\n",
       "         4738: 1,\n",
       "         4739: 1,\n",
       "         4740: 1,\n",
       "         4750: 1,\n",
       "         4763: 1,\n",
       "         4809: 1,\n",
       "         4816: 1,\n",
       "         4823: 1,\n",
       "         4836: 1,\n",
       "         4855: 1,\n",
       "         4861: 1,\n",
       "         4869: 1,\n",
       "         4883: 1,\n",
       "         4895: 1,\n",
       "         4899: 1,\n",
       "         4909: 1,\n",
       "         4921: 1,\n",
       "         4925: 1,\n",
       "         4941: 1,\n",
       "         4952: 1,\n",
       "         4955: 1,\n",
       "         4983: 1,\n",
       "         4984: 1,\n",
       "         4986: 1,\n",
       "         4987: 1,\n",
       "         4995: 1,\n",
       "         5001: 1,\n",
       "         5006: 1,\n",
       "         5019: 1,\n",
       "         5029: 1,\n",
       "         5034: 1,\n",
       "         5035: 1,\n",
       "         5041: 1,\n",
       "         5048: 1,\n",
       "         5061: 1,\n",
       "         5062: 1,\n",
       "         5063: 1,\n",
       "         5064: 1,\n",
       "         5076: 1})"
      ]
     },
     "execution_count": 139,
     "metadata": {},
     "output_type": "execute_result"
    }
   ],
   "source": [
    "outlier_values"
   ]
  },
  {
   "cell_type": "markdown",
   "metadata": {},
   "source": [
    "* The outlier values in two features that are age and avg_glucose_level.\n",
    "* We can see the indices that has outlier numbers and the datas has no more that two outlier values.\n",
    "* Finally we dont have to drop outlier values because it is'nt necessary just one outlier in any indices."
   ]
  },
  {
   "cell_type": "markdown",
   "metadata": {},
   "source": [
    "## Filling the missing value"
   ]
  },
  {
   "cell_type": "code",
   "execution_count": 140,
   "metadata": {},
   "outputs": [
    {
     "data": {
      "text/plain": [
       "id                     0\n",
       "gender                 0\n",
       "age                    0\n",
       "hypertension           0\n",
       "heart_disease          0\n",
       "ever_married           0\n",
       "work_type              0\n",
       "Residence_type         0\n",
       "avg_glucose_level      0\n",
       "bmi                  201\n",
       "smoking_status         0\n",
       "stroke                 0\n",
       "dtype: int64"
      ]
     },
     "execution_count": 140,
     "metadata": {},
     "output_type": "execute_result"
    }
   ],
   "source": [
    "data.isnull().sum()"
   ]
  },
  {
   "cell_type": "markdown",
   "metadata": {},
   "source": [
    "* The data has null values where columns is only 'bmi' "
   ]
  },
  {
   "cell_type": "code",
   "execution_count": 141,
   "metadata": {},
   "outputs": [
    {
     "data": {
      "text/html": [
       "<div>\n",
       "<style scoped>\n",
       "    .dataframe tbody tr th:only-of-type {\n",
       "        vertical-align: middle;\n",
       "    }\n",
       "\n",
       "    .dataframe tbody tr th {\n",
       "        vertical-align: top;\n",
       "    }\n",
       "\n",
       "    .dataframe thead th {\n",
       "        text-align: right;\n",
       "    }\n",
       "</style>\n",
       "<table border=\"1\" class=\"dataframe\">\n",
       "  <thead>\n",
       "    <tr style=\"text-align: right;\">\n",
       "      <th></th>\n",
       "      <th>id</th>\n",
       "      <th>gender</th>\n",
       "      <th>age</th>\n",
       "      <th>hypertension</th>\n",
       "      <th>heart_disease</th>\n",
       "      <th>ever_married</th>\n",
       "      <th>work_type</th>\n",
       "      <th>Residence_type</th>\n",
       "      <th>avg_glucose_level</th>\n",
       "      <th>bmi</th>\n",
       "      <th>smoking_status</th>\n",
       "      <th>stroke</th>\n",
       "    </tr>\n",
       "  </thead>\n",
       "  <tbody>\n",
       "    <tr>\n",
       "      <th>1</th>\n",
       "      <td>51676</td>\n",
       "      <td>Female</td>\n",
       "      <td>61.0</td>\n",
       "      <td>0</td>\n",
       "      <td>0</td>\n",
       "      <td>Yes</td>\n",
       "      <td>Self-employed</td>\n",
       "      <td>Rural</td>\n",
       "      <td>202.21</td>\n",
       "      <td>NaN</td>\n",
       "      <td>never smoked</td>\n",
       "      <td>1</td>\n",
       "    </tr>\n",
       "    <tr>\n",
       "      <th>8</th>\n",
       "      <td>27419</td>\n",
       "      <td>Female</td>\n",
       "      <td>59.0</td>\n",
       "      <td>0</td>\n",
       "      <td>0</td>\n",
       "      <td>Yes</td>\n",
       "      <td>Private</td>\n",
       "      <td>Rural</td>\n",
       "      <td>76.15</td>\n",
       "      <td>NaN</td>\n",
       "      <td>Unknown</td>\n",
       "      <td>1</td>\n",
       "    </tr>\n",
       "    <tr>\n",
       "      <th>13</th>\n",
       "      <td>8213</td>\n",
       "      <td>Male</td>\n",
       "      <td>78.0</td>\n",
       "      <td>0</td>\n",
       "      <td>1</td>\n",
       "      <td>Yes</td>\n",
       "      <td>Private</td>\n",
       "      <td>Urban</td>\n",
       "      <td>219.84</td>\n",
       "      <td>NaN</td>\n",
       "      <td>Unknown</td>\n",
       "      <td>1</td>\n",
       "    </tr>\n",
       "    <tr>\n",
       "      <th>19</th>\n",
       "      <td>25226</td>\n",
       "      <td>Male</td>\n",
       "      <td>57.0</td>\n",
       "      <td>0</td>\n",
       "      <td>1</td>\n",
       "      <td>No</td>\n",
       "      <td>Govt_job</td>\n",
       "      <td>Urban</td>\n",
       "      <td>217.08</td>\n",
       "      <td>NaN</td>\n",
       "      <td>Unknown</td>\n",
       "      <td>1</td>\n",
       "    </tr>\n",
       "    <tr>\n",
       "      <th>27</th>\n",
       "      <td>61843</td>\n",
       "      <td>Male</td>\n",
       "      <td>58.0</td>\n",
       "      <td>0</td>\n",
       "      <td>0</td>\n",
       "      <td>Yes</td>\n",
       "      <td>Private</td>\n",
       "      <td>Rural</td>\n",
       "      <td>189.84</td>\n",
       "      <td>NaN</td>\n",
       "      <td>Unknown</td>\n",
       "      <td>1</td>\n",
       "    </tr>\n",
       "    <tr>\n",
       "      <th>...</th>\n",
       "      <td>...</td>\n",
       "      <td>...</td>\n",
       "      <td>...</td>\n",
       "      <td>...</td>\n",
       "      <td>...</td>\n",
       "      <td>...</td>\n",
       "      <td>...</td>\n",
       "      <td>...</td>\n",
       "      <td>...</td>\n",
       "      <td>...</td>\n",
       "      <td>...</td>\n",
       "      <td>...</td>\n",
       "    </tr>\n",
       "    <tr>\n",
       "      <th>5039</th>\n",
       "      <td>42007</td>\n",
       "      <td>Male</td>\n",
       "      <td>41.0</td>\n",
       "      <td>0</td>\n",
       "      <td>0</td>\n",
       "      <td>No</td>\n",
       "      <td>Private</td>\n",
       "      <td>Rural</td>\n",
       "      <td>70.15</td>\n",
       "      <td>NaN</td>\n",
       "      <td>formerly smoked</td>\n",
       "      <td>0</td>\n",
       "    </tr>\n",
       "    <tr>\n",
       "      <th>5048</th>\n",
       "      <td>28788</td>\n",
       "      <td>Male</td>\n",
       "      <td>40.0</td>\n",
       "      <td>0</td>\n",
       "      <td>0</td>\n",
       "      <td>Yes</td>\n",
       "      <td>Private</td>\n",
       "      <td>Urban</td>\n",
       "      <td>191.15</td>\n",
       "      <td>NaN</td>\n",
       "      <td>smokes</td>\n",
       "      <td>0</td>\n",
       "    </tr>\n",
       "    <tr>\n",
       "      <th>5093</th>\n",
       "      <td>32235</td>\n",
       "      <td>Female</td>\n",
       "      <td>45.0</td>\n",
       "      <td>1</td>\n",
       "      <td>0</td>\n",
       "      <td>Yes</td>\n",
       "      <td>Govt_job</td>\n",
       "      <td>Rural</td>\n",
       "      <td>95.02</td>\n",
       "      <td>NaN</td>\n",
       "      <td>smokes</td>\n",
       "      <td>0</td>\n",
       "    </tr>\n",
       "    <tr>\n",
       "      <th>5099</th>\n",
       "      <td>7293</td>\n",
       "      <td>Male</td>\n",
       "      <td>40.0</td>\n",
       "      <td>0</td>\n",
       "      <td>0</td>\n",
       "      <td>Yes</td>\n",
       "      <td>Private</td>\n",
       "      <td>Rural</td>\n",
       "      <td>83.94</td>\n",
       "      <td>NaN</td>\n",
       "      <td>smokes</td>\n",
       "      <td>0</td>\n",
       "    </tr>\n",
       "    <tr>\n",
       "      <th>5105</th>\n",
       "      <td>18234</td>\n",
       "      <td>Female</td>\n",
       "      <td>80.0</td>\n",
       "      <td>1</td>\n",
       "      <td>0</td>\n",
       "      <td>Yes</td>\n",
       "      <td>Private</td>\n",
       "      <td>Urban</td>\n",
       "      <td>83.75</td>\n",
       "      <td>NaN</td>\n",
       "      <td>never smoked</td>\n",
       "      <td>0</td>\n",
       "    </tr>\n",
       "  </tbody>\n",
       "</table>\n",
       "<p>201 rows × 12 columns</p>\n",
       "</div>"
      ],
      "text/plain": [
       "         id  gender   age  hypertension  heart_disease ever_married  \\\n",
       "1     51676  Female  61.0             0              0          Yes   \n",
       "8     27419  Female  59.0             0              0          Yes   \n",
       "13     8213    Male  78.0             0              1          Yes   \n",
       "19    25226    Male  57.0             0              1           No   \n",
       "27    61843    Male  58.0             0              0          Yes   \n",
       "...     ...     ...   ...           ...            ...          ...   \n",
       "5039  42007    Male  41.0             0              0           No   \n",
       "5048  28788    Male  40.0             0              0          Yes   \n",
       "5093  32235  Female  45.0             1              0          Yes   \n",
       "5099   7293    Male  40.0             0              0          Yes   \n",
       "5105  18234  Female  80.0             1              0          Yes   \n",
       "\n",
       "          work_type Residence_type  avg_glucose_level  bmi   smoking_status  \\\n",
       "1     Self-employed          Rural             202.21  NaN     never smoked   \n",
       "8           Private          Rural              76.15  NaN          Unknown   \n",
       "13          Private          Urban             219.84  NaN          Unknown   \n",
       "19         Govt_job          Urban             217.08  NaN          Unknown   \n",
       "27          Private          Rural             189.84  NaN          Unknown   \n",
       "...             ...            ...                ...  ...              ...   \n",
       "5039        Private          Rural              70.15  NaN  formerly smoked   \n",
       "5048        Private          Urban             191.15  NaN           smokes   \n",
       "5093       Govt_job          Rural              95.02  NaN           smokes   \n",
       "5099        Private          Rural              83.94  NaN           smokes   \n",
       "5105        Private          Urban              83.75  NaN     never smoked   \n",
       "\n",
       "      stroke  \n",
       "1          1  \n",
       "8          1  \n",
       "13         1  \n",
       "19         1  \n",
       "27         1  \n",
       "...      ...  \n",
       "5039       0  \n",
       "5048       0  \n",
       "5093       0  \n",
       "5099       0  \n",
       "5105       0  \n",
       "\n",
       "[201 rows x 12 columns]"
      ]
     },
     "execution_count": 141,
     "metadata": {},
     "output_type": "execute_result"
    }
   ],
   "source": [
    "# detecth null values in data\n",
    "data[data['bmi'].isnull()]"
   ]
  },
  {
   "cell_type": "code",
   "execution_count": 142,
   "metadata": {},
   "outputs": [
    {
     "data": {
      "image/png": "[encoded data removed]",
      "text/plain": [
       "<Figure size 432x288 with 1 Axes>"
      ]
     },
     "metadata": {},
     "output_type": "display_data"
    }
   ],
   "source": [
    "sns.boxplot(x = 'smoking_status' , y = 'bmi' , data = data)\n",
    "plt.show()"
   ]
  },
  {
   "cell_type": "markdown",
   "metadata": {},
   "source": [
    "* We can't filling to in dependent of smoking_status\n",
    "* There is no diffrences bmi value with smoking status."
   ]
  },
  {
   "cell_type": "code",
   "execution_count": 143,
   "metadata": {},
   "outputs": [
    {
     "data": {
      "image/png": "[encoded data removed]",
      "text/plain": [
       "<Figure size 432x288 with 1 Axes>"
      ]
     },
     "metadata": {},
     "output_type": "display_data"
    }
   ],
   "source": [
    "sns.boxplot(x = 'stroke' , y = 'bmi' , data = data)\n",
    "plt.show()"
   ]
  },
  {
   "cell_type": "markdown",
   "metadata": {},
   "source": [
    "* We can't filling to in dependent of stroke status\n",
    "* There is no diffrences bmi value with stroke status"
   ]
  },
  {
   "cell_type": "code",
   "execution_count": 144,
   "metadata": {},
   "outputs": [
    {
     "data": {
      "image/png": "[encoded data removed]",
      "text/plain": [
       "<Figure size 432x288 with 1 Axes>"
      ]
     },
     "metadata": {},
     "output_type": "display_data"
    }
   ],
   "source": [
    "sns.boxplot(x = 'hypertension' , y = 'bmi' , data = data)\n",
    "plt.show()"
   ]
  },
  {
   "cell_type": "markdown",
   "metadata": {},
   "source": [
    "* We can filling with hypertension median values\n",
    "* There is a diffrence and we can use this that we want to "
   ]
  },
  {
   "cell_type": "code",
   "execution_count": 145,
   "metadata": {},
   "outputs": [
    {
     "data": {
      "image/png": "[encoded data removed]",
      "text/plain": [
       "<Figure size 432x288 with 1 Axes>"
      ]
     },
     "metadata": {},
     "output_type": "display_data"
    }
   ],
   "source": [
    "sns.boxplot(x = 'heart_disease' , y = 'bmi' , data = data)\n",
    "plt.show()"
   ]
  },
  {
   "cell_type": "markdown",
   "metadata": {},
   "source": [
    "* We can't filling to in dependent of hearth disase status\n",
    "* There is no diffrences bmi value with hearth disase status"
   ]
  },
  {
   "cell_type": "code",
   "execution_count": 146,
   "metadata": {},
   "outputs": [
    {
     "data": {
      "image/png": "[encoded data removed]",
      "text/plain": [
       "<Figure size 432x288 with 1 Axes>"
      ]
     },
     "metadata": {},
     "output_type": "display_data"
    }
   ],
   "source": [
    "sns.boxplot(x = 'ever_married' , y = 'bmi' , data = data)\n",
    "plt.show()"
   ]
  },
  {
   "cell_type": "markdown",
   "metadata": {},
   "source": [
    "* We can filling with ever_married median values\n",
    "* There is a diffrence and we can use this that we want to "
   ]
  },
  {
   "cell_type": "markdown",
   "metadata": {},
   "source": [
    "#### So finally we can use features that are hypertension and ever married, when we will fill the NaN values in bmi features"
   ]
  },
  {
   "cell_type": "code",
   "execution_count": 147,
   "metadata": {},
   "outputs": [],
   "source": [
    "# store the null values's indexes\n",
    "indexes_null = data[data['bmi'].isnull()].index"
   ]
  },
  {
   "cell_type": "code",
   "execution_count": 148,
   "metadata": {},
   "outputs": [
    {
     "data": {
      "text/plain": [
       "Int64Index([   1,    8,   13,   19,   27,   29,   43,   46,   50,   51,\n",
       "            ...\n",
       "            4790, 4921, 4934, 4949, 4984, 5039, 5048, 5093, 5099, 5105],\n",
       "           dtype='int64', length=201)"
      ]
     },
     "execution_count": 148,
     "metadata": {},
     "output_type": "execute_result"
    }
   ],
   "source": [
    "indexes_null"
   ]
  },
  {
   "cell_type": "code",
   "execution_count": 149,
   "metadata": {},
   "outputs": [],
   "source": [
    "bmi_pred = []\n",
    "for i in indexes_null:\n",
    "    # calculate the medians, we have indexes that null values in bmi feature \n",
    "    # bmi indexes where are null indexes in bmi feauture that is i \n",
    "    # and filling with that indexes where are hypertension and ever_maried median \n",
    "    bmi_pred = data['bmi'][((data['hypertension'] == data.iloc[i]['hypertension']) & \n",
    "                            (data['ever_married'] == data.iloc[i]['ever_married']))].median()\n",
    "    # filling processes\n",
    "    \n",
    "    data['bmi'].loc[i] = bmi_pred"
   ]
  },
  {
   "cell_type": "code",
   "execution_count": 150,
   "metadata": {},
   "outputs": [
    {
     "data": {
      "text/plain": [
       "id                   0\n",
       "gender               0\n",
       "age                  0\n",
       "hypertension         0\n",
       "heart_disease        0\n",
       "ever_married         0\n",
       "work_type            0\n",
       "Residence_type       0\n",
       "avg_glucose_level    0\n",
       "bmi                  0\n",
       "smoking_status       0\n",
       "stroke               0\n",
       "dtype: int64"
      ]
     },
     "execution_count": 150,
     "metadata": {},
     "output_type": "execute_result"
    }
   ],
   "source": [
    "data.isnull().sum()"
   ]
  },
  {
   "cell_type": "markdown",
   "metadata": {},
   "source": [
    "## Obtained training and testing variables for learning proceses"
   ]
  },
  {
   "cell_type": "code",
   "execution_count": 151,
   "metadata": {},
   "outputs": [],
   "source": [
    "# decleration variables for training and testing processes \n",
    "X = data.drop(['stroke' , 'id'] , axis = 1).values\n",
    "y = data.stroke"
   ]
  },
  {
   "cell_type": "code",
   "execution_count": 152,
   "metadata": {},
   "outputs": [
    {
     "data": {
      "text/plain": [
       "array([['Male', 67.0, 0, ..., 228.69, 36.6, 'formerly smoked'],\n",
       "       ['Female', 61.0, 0, ..., 202.21, 29.4, 'never smoked'],\n",
       "       ['Male', 80.0, 0, ..., 105.92, 32.5, 'never smoked'],\n",
       "       ...,\n",
       "       ['Female', 35.0, 0, ..., 82.99, 30.6, 'never smoked'],\n",
       "       ['Male', 51.0, 0, ..., 166.29, 25.6, 'formerly smoked'],\n",
       "       ['Female', 44.0, 0, ..., 85.28, 26.2, 'Unknown']], dtype=object)"
      ]
     },
     "execution_count": 152,
     "metadata": {},
     "output_type": "execute_result"
    }
   ],
   "source": [
    "X"
   ]
  },
  {
   "cell_type": "markdown",
   "metadata": {},
   "source": [
    "### Encoding catagorical features with label encoder for learning processes"
   ]
  },
  {
   "cell_type": "code",
   "execution_count": 153,
   "metadata": {},
   "outputs": [
    {
     "name": "stdout",
     "output_type": "stream",
     "text": [
      "<class 'pandas.core.frame.DataFrame'>\n",
      "RangeIndex: 5110 entries, 0 to 5109\n",
      "Data columns (total 12 columns):\n",
      " #   Column             Non-Null Count  Dtype  \n",
      "---  ------             --------------  -----  \n",
      " 0   id                 5110 non-null   int64  \n",
      " 1   gender             5110 non-null   object \n",
      " 2   age                5110 non-null   float64\n",
      " 3   hypertension       5110 non-null   int64  \n",
      " 4   heart_disease      5110 non-null   int64  \n",
      " 5   ever_married       5110 non-null   object \n",
      " 6   work_type          5110 non-null   object \n",
      " 7   Residence_type     5110 non-null   object \n",
      " 8   avg_glucose_level  5110 non-null   float64\n",
      " 9   bmi                5110 non-null   float64\n",
      " 10  smoking_status     5110 non-null   object \n",
      " 11  stroke             5110 non-null   int64  \n",
      "dtypes: float64(3), int64(4), object(5)\n",
      "memory usage: 479.2+ KB\n"
     ]
    }
   ],
   "source": [
    "data.info()"
   ]
  },
  {
   "cell_type": "markdown",
   "metadata": {},
   "source": [
    "* We should encoding feature where dtype is 'object' because learning processes need to be numerical variables"
   ]
  },
  {
   "cell_type": "code",
   "execution_count": 154,
   "metadata": {},
   "outputs": [],
   "source": [
    "from sklearn.preprocessing import LabelEncoder\n",
    "le = LabelEncoder()\n",
    "X[:,0] = le.fit_transform(X[:,0]) # For gender \n",
    "X[:,4] = le.fit_transform(X[:,4]) # For married status \n",
    "X[:,5] = le.fit_transform(X[:,5]) # For work type\n",
    "X[:,6] = le.fit_transform(X[:,6]) # For residance type\n",
    "X[:,9] = le.fit_transform(X[:,9]) # For smoking status "
   ]
  },
  {
   "cell_type": "code",
   "execution_count": 155,
   "metadata": {},
   "outputs": [],
   "source": [
    "# train and test splitting \n",
    "from sklearn.model_selection import train_test_split\n",
    "X_train , X_test , y_train , y_test = train_test_split(X , y , test_size = 0.2 , random_state = 42)"
   ]
  },
  {
   "cell_type": "markdown",
   "metadata": {},
   "source": [
    "# Implement the PCA(Principle Component Analysis) data and 2D visualization"
   ]
  },
  {
   "cell_type": "code",
   "execution_count": 156,
   "metadata": {},
   "outputs": [
    {
     "name": "stdout",
     "output_type": "stream",
     "text": [
      "The variances are : [0.79650051 0.18268965]\n",
      "The variance score is : 0.9791901609119906\n"
     ]
    }
   ],
   "source": [
    "from sklearn.decomposition import PCA\n",
    "z = data.drop(['stroke' , 'id'], axis = 1).values\n",
    "\n",
    "# Encoding\n",
    "z[:,0] = le.fit_transform(z[:,0]) # For gender \n",
    "z[:,4] = le.fit_transform(z[:,4]) # For married status \n",
    "z[:,5] = le.fit_transform(z[:,5]) # For work type\n",
    "z[:,6] = le.fit_transform(z[:,6]) # For residance type\n",
    "z[:,9] = le.fit_transform(z[:,9]) # For smoking status \n",
    "\n",
    "pca = PCA(n_components = 2, whiten = True) # we want two component for visialization\n",
    "pca.fit(z) # detecth the our pca components\n",
    "\n",
    "# conver the 2d \n",
    "z_pca = pca.transform(z)\n",
    "\n",
    "# analyz the pca perform\n",
    "print('The variances are : {}'.format(pca.explained_variance_ratio_))\n",
    "print('The variance score is : {}'.format(sum(pca.explained_variance_ratio_)))"
   ]
  },
  {
   "cell_type": "markdown",
   "metadata": {},
   "source": [
    "* The variance score is very good the score that means our component too similaraty has with our real data."
   ]
  },
  {
   "cell_type": "code",
   "execution_count": 160,
   "metadata": {},
   "outputs": [
    {
     "data": {
      "text/html": [
       "<div>\n",
       "<style scoped>\n",
       "    .dataframe tbody tr th:only-of-type {\n",
       "        vertical-align: middle;\n",
       "    }\n",
       "\n",
       "    .dataframe tbody tr th {\n",
       "        vertical-align: top;\n",
       "    }\n",
       "\n",
       "    .dataframe thead th {\n",
       "        text-align: right;\n",
       "    }\n",
       "</style>\n",
       "<table border=\"1\" class=\"dataframe\">\n",
       "  <thead>\n",
       "    <tr style=\"text-align: right;\">\n",
       "      <th></th>\n",
       "      <th>gender</th>\n",
       "      <th>age</th>\n",
       "      <th>hypertension</th>\n",
       "      <th>heart_disease</th>\n",
       "      <th>ever_married</th>\n",
       "      <th>work_type</th>\n",
       "      <th>Residence_type</th>\n",
       "      <th>avg_glucose_level</th>\n",
       "      <th>bmi</th>\n",
       "      <th>smoking_status</th>\n",
       "      <th>stroke</th>\n",
       "      <th>p1</th>\n",
       "      <th>p2</th>\n",
       "    </tr>\n",
       "  </thead>\n",
       "  <tbody>\n",
       "    <tr>\n",
       "      <th>0</th>\n",
       "      <td>1</td>\n",
       "      <td>67.0</td>\n",
       "      <td>0</td>\n",
       "      <td>1</td>\n",
       "      <td>1</td>\n",
       "      <td>2</td>\n",
       "      <td>1</td>\n",
       "      <td>228.69</td>\n",
       "      <td>36.6</td>\n",
       "      <td>1</td>\n",
       "      <td>1</td>\n",
       "      <td>2.732301</td>\n",
       "      <td>-0.228539</td>\n",
       "    </tr>\n",
       "    <tr>\n",
       "      <th>1</th>\n",
       "      <td>0</td>\n",
       "      <td>61.0</td>\n",
       "      <td>0</td>\n",
       "      <td>0</td>\n",
       "      <td>1</td>\n",
       "      <td>3</td>\n",
       "      <td>0</td>\n",
       "      <td>202.21</td>\n",
       "      <td>29.4</td>\n",
       "      <td>2</td>\n",
       "      <td>1</td>\n",
       "      <td>2.134927</td>\n",
       "      <td>-0.111428</td>\n",
       "    </tr>\n",
       "    <tr>\n",
       "      <th>2</th>\n",
       "      <td>1</td>\n",
       "      <td>80.0</td>\n",
       "      <td>0</td>\n",
       "      <td>1</td>\n",
       "      <td>1</td>\n",
       "      <td>2</td>\n",
       "      <td>0</td>\n",
       "      <td>105.92</td>\n",
       "      <td>32.5</td>\n",
       "      <td>2</td>\n",
       "      <td>1</td>\n",
       "      <td>0.121458</td>\n",
       "      <td>-1.668146</td>\n",
       "    </tr>\n",
       "    <tr>\n",
       "      <th>3</th>\n",
       "      <td>0</td>\n",
       "      <td>49.0</td>\n",
       "      <td>0</td>\n",
       "      <td>0</td>\n",
       "      <td>1</td>\n",
       "      <td>2</td>\n",
       "      <td>1</td>\n",
       "      <td>171.23</td>\n",
       "      <td>34.4</td>\n",
       "      <td>3</td>\n",
       "      <td>1</td>\n",
       "      <td>1.429185</td>\n",
       "      <td>0.176928</td>\n",
       "    </tr>\n",
       "    <tr>\n",
       "      <th>4</th>\n",
       "      <td>0</td>\n",
       "      <td>79.0</td>\n",
       "      <td>1</td>\n",
       "      <td>0</td>\n",
       "      <td>1</td>\n",
       "      <td>3</td>\n",
       "      <td>0</td>\n",
       "      <td>174.12</td>\n",
       "      <td>24.0</td>\n",
       "      <td>2</td>\n",
       "      <td>1</td>\n",
       "      <td>1.584857</td>\n",
       "      <td>-1.090511</td>\n",
       "    </tr>\n",
       "    <tr>\n",
       "      <th>...</th>\n",
       "      <td>...</td>\n",
       "      <td>...</td>\n",
       "      <td>...</td>\n",
       "      <td>...</td>\n",
       "      <td>...</td>\n",
       "      <td>...</td>\n",
       "      <td>...</td>\n",
       "      <td>...</td>\n",
       "      <td>...</td>\n",
       "      <td>...</td>\n",
       "      <td>...</td>\n",
       "      <td>...</td>\n",
       "      <td>...</td>\n",
       "    </tr>\n",
       "    <tr>\n",
       "      <th>5105</th>\n",
       "      <td>0</td>\n",
       "      <td>80.0</td>\n",
       "      <td>1</td>\n",
       "      <td>0</td>\n",
       "      <td>1</td>\n",
       "      <td>2</td>\n",
       "      <td>1</td>\n",
       "      <td>83.75</td>\n",
       "      <td>31.8</td>\n",
       "      <td>2</td>\n",
       "      <td>0</td>\n",
       "      <td>-0.357890</td>\n",
       "      <td>-1.823192</td>\n",
       "    </tr>\n",
       "    <tr>\n",
       "      <th>5106</th>\n",
       "      <td>0</td>\n",
       "      <td>81.0</td>\n",
       "      <td>0</td>\n",
       "      <td>0</td>\n",
       "      <td>1</td>\n",
       "      <td>3</td>\n",
       "      <td>1</td>\n",
       "      <td>125.20</td>\n",
       "      <td>40.0</td>\n",
       "      <td>2</td>\n",
       "      <td>0</td>\n",
       "      <td>0.546626</td>\n",
       "      <td>-1.613215</td>\n",
       "    </tr>\n",
       "    <tr>\n",
       "      <th>5107</th>\n",
       "      <td>0</td>\n",
       "      <td>35.0</td>\n",
       "      <td>0</td>\n",
       "      <td>0</td>\n",
       "      <td>1</td>\n",
       "      <td>3</td>\n",
       "      <td>0</td>\n",
       "      <td>82.99</td>\n",
       "      <td>30.6</td>\n",
       "      <td>2</td>\n",
       "      <td>0</td>\n",
       "      <td>-0.526577</td>\n",
       "      <td>0.193932</td>\n",
       "    </tr>\n",
       "    <tr>\n",
       "      <th>5108</th>\n",
       "      <td>1</td>\n",
       "      <td>51.0</td>\n",
       "      <td>0</td>\n",
       "      <td>0</td>\n",
       "      <td>1</td>\n",
       "      <td>2</td>\n",
       "      <td>0</td>\n",
       "      <td>166.29</td>\n",
       "      <td>25.6</td>\n",
       "      <td>1</td>\n",
       "      <td>0</td>\n",
       "      <td>1.322731</td>\n",
       "      <td>0.099070</td>\n",
       "    </tr>\n",
       "    <tr>\n",
       "      <th>5109</th>\n",
       "      <td>0</td>\n",
       "      <td>44.0</td>\n",
       "      <td>0</td>\n",
       "      <td>0</td>\n",
       "      <td>1</td>\n",
       "      <td>0</td>\n",
       "      <td>1</td>\n",
       "      <td>85.28</td>\n",
       "      <td>26.2</td>\n",
       "      <td>0</td>\n",
       "      <td>0</td>\n",
       "      <td>-0.450020</td>\n",
       "      <td>-0.171179</td>\n",
       "    </tr>\n",
       "  </tbody>\n",
       "</table>\n",
       "<p>5110 rows × 13 columns</p>\n",
       "</div>"
      ],
      "text/plain": [
       "      gender   age  hypertension  heart_disease  ever_married  work_type  \\\n",
       "0          1  67.0             0              1             1          2   \n",
       "1          0  61.0             0              0             1          3   \n",
       "2          1  80.0             0              1             1          2   \n",
       "3          0  49.0             0              0             1          2   \n",
       "4          0  79.0             1              0             1          3   \n",
       "...      ...   ...           ...            ...           ...        ...   \n",
       "5105       0  80.0             1              0             1          2   \n",
       "5106       0  81.0             0              0             1          3   \n",
       "5107       0  35.0             0              0             1          3   \n",
       "5108       1  51.0             0              0             1          2   \n",
       "5109       0  44.0             0              0             1          0   \n",
       "\n",
       "      Residence_type  avg_glucose_level   bmi  smoking_status  stroke  \\\n",
       "0                  1             228.69  36.6               1       1   \n",
       "1                  0             202.21  29.4               2       1   \n",
       "2                  0             105.92  32.5               2       1   \n",
       "3                  1             171.23  34.4               3       1   \n",
       "4                  0             174.12  24.0               2       1   \n",
       "...              ...                ...   ...             ...     ...   \n",
       "5105               1              83.75  31.8               2       0   \n",
       "5106               1             125.20  40.0               2       0   \n",
       "5107               0              82.99  30.6               2       0   \n",
       "5108               0             166.29  25.6               1       0   \n",
       "5109               1              85.28  26.2               0       0   \n",
       "\n",
       "            p1        p2  \n",
       "0     2.732301 -0.228539  \n",
       "1     2.134927 -0.111428  \n",
       "2     0.121458 -1.668146  \n",
       "3     1.429185  0.176928  \n",
       "4     1.584857 -1.090511  \n",
       "...        ...       ...  \n",
       "5105 -0.357890 -1.823192  \n",
       "5106  0.546626 -1.613215  \n",
       "5107 -0.526577  0.193932  \n",
       "5108  1.322731  0.099070  \n",
       "5109 -0.450020 -0.171179  \n",
       "\n",
       "[5110 rows x 13 columns]"
      ]
     },
     "execution_count": 160,
     "metadata": {},
     "output_type": "execute_result"
    }
   ],
   "source": [
    "# Create a new dataframe for pca visulization\n",
    "pca_2d_df = data.drop(['id'], axis = 1)\n",
    "pca_2d_df\n",
    "\n",
    "# new data frame encoding\n",
    "pca_2d_df.iloc[:,0] = le.fit_transform(pca_2d_df.iloc[:,0]) # For gender \n",
    "pca_2d_df.iloc[:,4] = le.fit_transform(pca_2d_df.iloc[:,4]) # For married status \n",
    "pca_2d_df.iloc[:,5] = le.fit_transform(pca_2d_df.iloc[:,5]) # For work type\n",
    "pca_2d_df.iloc[:,6] = le.fit_transform(pca_2d_df.iloc[:,6]) # For residance type\n",
    "pca_2d_df.iloc[:,9] = le.fit_transform(pca_2d_df.iloc[:,9]) # For smoking status \n",
    "\n",
    "# add the pca components\n",
    "pca_2d_df['p1'] = z_pca[:,0]\n",
    "pca_2d_df['p2'] = z_pca[:,1]\n",
    "\n",
    "pca_2d_df"
   ]
  },
  {
   "cell_type": "code",
   "execution_count": 158,
   "metadata": {},
   "outputs": [
    {
     "data": {
      "image/png": "[encoded data removed]",
      "text/plain": [
       "<Figure size 432x288 with 1 Axes>"
      ]
     },
     "metadata": {},
     "output_type": "display_data"
    }
   ],
   "source": [
    "# create a color list for classification\n",
    "color = ['red' , 'green']\n",
    "labels = ['Stroke status = 0', 'Stroke status = 1']\n",
    "for i, j, k in zip(color, labels, range(0,2)):\n",
    "    plt.scatter(pca_2d_df.p1[pca_2d_df['stroke'] == k], \n",
    "                pca_2d_df.p2[pca_2d_df['stroke'] == k], \n",
    "                label = '{}'.format(j), color = i)\n",
    "\n",
    "plt.legend(loc = 'best')\n",
    "plt.xlabel('p1')\n",
    "plt.ylabel('p2')\n",
    "plt.title('2D visiualization with PCA')\n",
    "plt.show()"
   ]
  },
  {
   "cell_type": "markdown",
   "metadata": {},
   "source": [
    "* As we can see the density of data by PCA components\n",
    "* Generally, Stroke status 0's labels density involve to Stroke status 1 labels."
   ]
  },
  {
   "cell_type": "markdown",
   "metadata": {},
   "source": [
    "## Learning time!"
   ]
  },
  {
   "cell_type": "markdown",
   "metadata": {},
   "source": [
    "### Logistic Regression"
   ]
  },
  {
   "cell_type": "code",
   "execution_count": 159,
   "metadata": {},
   "outputs": [
    {
     "name": "stdout",
     "output_type": "stream",
     "text": [
      "The best C value for training process: {'C': 0.01}\n",
      "The best score validation score : 0.9542571551848121\n",
      "Logistic Regression score :  0.9393346379647749\n"
     ]
    }
   ],
   "source": [
    "from sklearn.linear_model import LogisticRegression\n",
    "lr = LogisticRegression(C = 10)\n",
    "\n",
    "# Cross validation and create dict for hyperparameters\n",
    "from sklearn.model_selection import GridSearchCV\n",
    "\n",
    "# hyperparameters \n",
    "grid_lr = {'C' : [0.01 , 1 , 15]}\n",
    "\n",
    "# finding the best parameters\n",
    "cv = GridSearchCV(lr , grid_lr , cv = 10)\n",
    "cv.fit(X_train, y_train)\n",
    "print('The best C value for training process: {}'.format(cv.best_params_))\n",
    "print('The best score validation score : {}'.format(cv.best_score_))\n",
    "\n",
    "# Testing process\n",
    "lr.fit(X_train, y_train)\n",
    "print('Logistic Regression score : ' , lr.score(X_test , y_test))\n",
    "lr_score = lr.score(X_test , y_test)"
   ]
  },
  {
   "cell_type": "markdown",
   "metadata": {},
   "source": [
    "* The 'C' hyperparameter is specifying to regularization for overfitting and underfitting status."
   ]
  },
  {
   "cell_type": "markdown",
   "metadata": {},
   "source": [
    "### Naive Bayes Classification"
   ]
  },
  {
   "cell_type": "code",
   "execution_count": 99,
   "metadata": {},
   "outputs": [
    {
     "name": "stdout",
     "output_type": "stream",
     "text": [
      "Acuracy Naive Bayes classification : 0.8679060665362035\n"
     ]
    }
   ],
   "source": [
    "from sklearn.naive_bayes import GaussianNB\n",
    "nb = GaussianNB()\n",
    "nb.fit(X_train , y_train)\n",
    "print('Acuracy Naive Bayes classification : {}'.format(nb.score(X_test , y_test)))\n",
    "nb_score = nb.score(X_test , y_test)"
   ]
  },
  {
   "cell_type": "markdown",
   "metadata": {},
   "source": [
    "### K neirest neighbor classification"
   ]
  },
  {
   "cell_type": "code",
   "execution_count": 161,
   "metadata": {},
   "outputs": [
    {
     "name": "stdout",
     "output_type": "stream",
     "text": [
      "The bes hpyperparameters are : {'n_neighbors': 16, 'weights': 'uniform'}\n",
      "The best validation score is : 0.9542571551848121\n",
      "Knn score 0.9393346379647749\n"
     ]
    }
   ],
   "source": [
    "from sklearn.neighbors import KNeighborsClassifier\n",
    "knn = KNeighborsClassifier(n_neighbors = 16, weights = 'uniform')\n",
    "\n",
    "# Cross validation and create dict for hyperparameters\n",
    "grid_knn = {'n_neighbors': np.arange(1,30) , 'weights': ['uniform', 'distance']}\n",
    "cv = GridSearchCV(knn , grid_knn, cv = 10)\n",
    "\n",
    "# finding the best parameters \n",
    "cv.fit(X_train, y_train)\n",
    "print('The bes hpyperparameters are : {}'.format(cv.best_params_))\n",
    "print('The best validation score is : {}'.format(cv.best_score_))\n",
    "\n",
    "# Testing process\n",
    "knn.fit(X_train , y_train)\n",
    "print('Knn score' , knn.score(X_test , y_test))\n",
    "knn_score = knn.score(X_test , y_test)"
   ]
  },
  {
   "cell_type": "markdown",
   "metadata": {},
   "source": [
    "* As we can see the best hyperparameters.\n",
    "* The neighboors parameters decide with number of neighboors \n",
    "* weights parameters that is uniform, the datas has no special feature by distance\n",
    "* weights parameters that is distance the datas has special feature by distance"
   ]
  },
  {
   "cell_type": "markdown",
   "metadata": {},
   "source": [
    "### Linear SVM Classification"
   ]
  },
  {
   "cell_type": "code",
   "execution_count": 162,
   "metadata": {},
   "outputs": [
    {
     "name": "stdout",
     "output_type": "stream",
     "text": [
      "Acuracy with Linear SVM :0.9393346379647749\n"
     ]
    }
   ],
   "source": [
    "from sklearn.svm import SVC\n",
    "svm = SVC(C = 15 ,random_state = 42)\n",
    "svm.fit(X_train , y_train)\n",
    "print('Acuracy with Linear SVM :{}'.format(svm.score(X_test , y_test)))\n",
    "svm_score = svm.score(X_test , y_test)"
   ]
  },
  {
   "cell_type": "markdown",
   "metadata": {},
   "source": [
    "### Decision Tree Classification"
   ]
  },
  {
   "cell_type": "code",
   "execution_count": 163,
   "metadata": {},
   "outputs": [
    {
     "name": "stdout",
     "output_type": "stream",
     "text": [
      "The best criterion section is : {'criterion': 'gini', 'min_samples_leaf': 4}\n",
      "The best validation score is : 0.9344503571599789\n",
      "Decision Tree score :  0.9285714285714286\n"
     ]
    }
   ],
   "source": [
    "from sklearn.tree import DecisionTreeClassifier\n",
    "dt = DecisionTreeClassifier(criterion = 'gini' , min_samples_leaf = 4)\n",
    "\n",
    "# Cross validation and create dict for hyperparameters\n",
    "grid_dt = {\"criterion\": ['gini', 'entropy'] , \"min_samples_leaf\" : range(1,5)}\n",
    "cv = GridSearchCV(dt , grid_dt , cv = 10)\n",
    "cv.fit(X_train, y_train)\n",
    "print('The best criterion section is : {}'.format(cv.best_params_))\n",
    "print('The best validation score is : {}'.format(cv.best_score_))\n",
    "\n",
    "# Testing process\n",
    "dt.fit(X_train , y_train)\n",
    "print('Decision Tree score : ' , dt.score(X_test , y_test))\n",
    "dt_score = dt.score(X_test , y_test)"
   ]
  },
  {
   "cell_type": "markdown",
   "metadata": {},
   "source": [
    "* As we can see the best hyperparameters.\n",
    "* If the scores that are validation and test scores has a too diffrences we should change the 'max_depth' hyperparatemeters. The max_depth hyperparameters defaul value is infinite. \n",
    "* Gini that means basicly, choose the root that data more frequency than the other"
   ]
  },
  {
   "cell_type": "markdown",
   "metadata": {},
   "source": [
    "### Random Forest Classification"
   ]
  },
  {
   "cell_type": "code",
   "execution_count": 164,
   "metadata": {},
   "outputs": [
    {
     "name": "stdout",
     "output_type": "stream",
     "text": [
      "Acuracy wit Random forest :0.9393346379647749\n"
     ]
    }
   ],
   "source": [
    "from sklearn.ensemble import RandomForestClassifier\n",
    "rf = RandomForestClassifier(n_estimators = 100 , random_state = 42)\n",
    "rf.fit(X_train , y_train)\n",
    "print('Acuracy wit Random forest :{}'.format(rf.score(X_test , y_test)))\n",
    "rf_score = rf.score(X_test, y_test)"
   ]
  },
  {
   "cell_type": "markdown",
   "metadata": {},
   "source": [
    "* Random forest generally no need to hyperparameters.\n",
    "* Decision tree sometimes has a overfitting and random forest block the overfitting\n",
    "* There is a just important hyperparameters that is n_estimators, n_estimators is a number of decision trees"
   ]
  },
  {
   "cell_type": "markdown",
   "metadata": {},
   "source": [
    "# Comparing Learning algorithms performs"
   ]
  },
  {
   "cell_type": "markdown",
   "metadata": {},
   "source": [
    "## Visualization part"
   ]
  },
  {
   "cell_type": "code",
   "execution_count": 165,
   "metadata": {},
   "outputs": [],
   "source": [
    "algorithms = ['Logistic Regression' , 'Naive Bayes Classification' , 'K neirest neighbor classification' , \n",
    "              'Linear SVM Classification' , 'Decision Tree Classification' , 'Random Forest Classification']\n",
    "score_algorithms = [lr_score , nb_score , knn_score , svm_score , dt_score , rf_score]"
   ]
  },
  {
   "cell_type": "code",
   "execution_count": 166,
   "metadata": {},
   "outputs": [],
   "source": [
    "# Creating new data frame for comparing visualaziton\n",
    "df_score = pd.DataFrame({'Algorithms' : algorithms , 'Scores' : score_algorithms})"
   ]
  },
  {
   "cell_type": "code",
   "execution_count": 167,
   "metadata": {},
   "outputs": [],
   "source": [
    "# Sorting \n",
    "index = df_score.Scores.sort_values(ascending = False).index\n",
    "# reindexing\n",
    "df_score = df_score.reindex(index)"
   ]
  },
  {
   "cell_type": "code",
   "execution_count": 168,
   "metadata": {},
   "outputs": [
    {
     "data": {
      "image/png": "[encoded data removed]",
      "text/plain": [
       "<Figure size 432x288 with 1 Axes>"
      ]
     },
     "metadata": {},
     "output_type": "display_data"
    }
   ],
   "source": [
    "# Visualization part \n",
    "sns.barplot(x = 'Scores' , y = 'Algorithms' , data = df_score)\n",
    "plt.xticks(rotation = 45)\n",
    "plt.xlabel('Scores')\n",
    "plt.ylabel('Algorithms')\n",
    "plt.title('Learning algorithms performs')\n",
    "plt.show()"
   ]
  },
  {
   "cell_type": "markdown",
   "metadata": {},
   "source": [
    "## Confusion matrixes"
   ]
  },
  {
   "cell_type": "code",
   "execution_count": 169,
   "metadata": {},
   "outputs": [],
   "source": [
    "# Logistic Regression predictions\n",
    "y_pred_lr = lr.predict(X_test)\n",
    "\n",
    "# Naive bayes predictions \n",
    "y_pred_nb = nb.predict(X_test)\n",
    "\n",
    "# Knn predictions \n",
    "y_pred_knn = knn.predict(X_test)\n",
    "\n",
    "# linear svm predictions \n",
    "y_pred_svm = svm.predict(X_test)\n",
    "\n",
    "# Decision Tree predictions \n",
    "y_pred_dt = dt.predict(X_test)\n",
    "\n",
    "# Random Forest predictions\n",
    "y_pred_rf = rf.predict(X_test)\n",
    "\n",
    "# True values \n",
    "y_true = y_test"
   ]
  },
  {
   "cell_type": "code",
   "execution_count": 170,
   "metadata": {},
   "outputs": [
    {
     "data": {
      "text/plain": [
       "array([0, 0, 0, ..., 0, 0, 0], dtype=int64)"
      ]
     },
     "execution_count": 170,
     "metadata": {},
     "output_type": "execute_result"
    }
   ],
   "source": [
    "y_pred_knn\n"
   ]
  },
  {
   "cell_type": "code",
   "execution_count": 171,
   "metadata": {},
   "outputs": [],
   "source": [
    "from sklearn.metrics import confusion_matrix\n",
    "cm_lr = confusion_matrix(y_pred_lr , y_true)\n",
    "cm_nb = confusion_matrix(y_pred_nb , y_true)\n",
    "cm_knn = confusion_matrix(y_pred_knn , y_true)\n",
    "cm_svm = confusion_matrix(y_pred_svm , y_true)\n",
    "cm_dt = confusion_matrix(y_pred_dt , y_true)\n",
    "cm_rf = confusion_matrix(y_pred_rf , y_true)"
   ]
  },
  {
   "cell_type": "code",
   "execution_count": 172,
   "metadata": {},
   "outputs": [],
   "source": [
    "algorithms = ['Logistic Regression' , 'Naive Bayes Classification' , 'K neirest neighbor classification' , \n",
    "              'Linear SVM Classification' , 'Decision Tree Classification' , 'Random Forest Classification']\n",
    "cm = [cm_lr , cm_nb , cm_knn , cm_svm , cm_dt , cm_rf]\n",
    "\n",
    "def confmatrix_visiulazation(cm , algorithms):\n",
    "    for i,j in zip(cm,algorithms):\n",
    "        plt.figure(figsize=(5,5)) \n",
    "        sns.heatmap(i , annot = True , linecolor = 'red' , fmt = '.0f')\n",
    "        plt.xlabel('y_pred')\n",
    "        plt.ylabel('y_test')\n",
    "        plt.title('{} confusion map'.format(j))\n",
    "        plt.show()"
   ]
  },
  {
   "cell_type": "code",
   "execution_count": 173,
   "metadata": {
    "scrolled": false
   },
   "outputs": [
    {
     "data": {
      "image/png": "[encoded data removed]",
      "text/plain": [
       "<Figure size 360x360 with 2 Axes>"
      ]
     },
     "metadata": {},
     "output_type": "display_data"
    },
    {
     "data": {
      "image/png": "[encoded data removed]",
      "text/plain": [
       "<Figure size 360x360 with 2 Axes>"
      ]
     },
     "metadata": {},
     "output_type": "display_data"
    },
    {
     "data": {
      "image/png": "[encoded data removed]",
      "text/plain": [
       "<Figure size 360x360 with 2 Axes>"
      ]
     },
     "metadata": {},
     "output_type": "display_data"
    },
    {
     "data": {
      "image/png": "[encoded data removed]",
      "text/plain": [
       "<Figure size 360x360 with 2 Axes>"
      ]
     },
     "metadata": {},
     "output_type": "display_data"
    },
    {
     "data": {
      "image/png": "[encoded data removed]",
      "text/plain": [
       "<Figure size 360x360 with 2 Axes>"
      ]
     },
     "metadata": {},
     "output_type": "display_data"
    },
    {
     "data": {
      "image/png": "[encoded data removed]",
      "text/plain": [
       "<Figure size 360x360 with 2 Axes>"
      ]
     },
     "metadata": {},
     "output_type": "display_data"
    }
   ],
   "source": [
    "confmatrix_visiulazation(cm , algorithms)"
   ]
  }
 ],
 "metadata": {
  "kernelspec": {
   "display_name": "Python 3",
   "language": "python",
   "name": "python3"
  },
  "language_info": {
   "codemirror_mode": {
    "name": "ipython",
    "version": 3
   },
   "file_extension": ".py",
   "mimetype": "text/x-python",
   "name": "python",
   "nbconvert_exporter": "python",
   "pygments_lexer": "ipython3",
   "version": "3.8.5"
  }
 },
 "nbformat": 4,
 "nbformat_minor": 4
}
